{
 "cells": [
  {
   "cell_type": "code",
   "execution_count": null,
   "id": "507dc34c-1ccf-4366-a095-e8365890e09f",
   "metadata": {},
   "outputs": [],
   "source": [
    "import numpy as np, matplotlib.pyplot as plt\n",
    "from ring_trap_nm.nelder_mead.Objective import Objective"
   ]
  },
  {
   "cell_type": "markdown",
   "id": "b1bc4501-fbc0-4c60-9306-d37246e3d60c",
   "metadata": {
    "tags": []
   },
   "source": [
    "# Minimum Energy with Fixed Momentum"
   ]
  },
  {
   "cell_type": "code",
   "execution_count": null,
   "id": "06a524c1-5059-4b68-91c1-9bfbb89dd3b5",
   "metadata": {},
   "outputs": [],
   "source": [
    "objective_functions = (\n",
    "    \"get_E_expectation\",\n",
    "    \"get_E_deviation\",\n",
    "    \"get_p_expectation\",\n",
    "    \"get_p_deviation\",\n",
    "    \"get_V_smoothness\"\n",
    ")\n",
    "\n",
    "lambs = (\n",
    "    1.0,\n",
    "    5.0,\n",
    "    1.0,\n",
    "    5.0,\n",
    "    int(1e3)\n",
    ")\n",
    "\n",
    "options = {\n",
    "    \"maxiter\": int(1e6),\n",
    "    \"disp\": True\n",
    "}\n",
    "\n",
    "obj = Objective(objective_functions=objective_functions, lambs=lambs)"
   ]
  },
  {
   "cell_type": "code",
   "execution_count": null,
   "id": "d304c23d-d506-45c7-b782-d4304b4ef2c7",
   "metadata": {},
   "outputs": [],
   "source": [
    "ret = obj.solve(options=options)\n",
    "ret"
   ]
  },
  {
   "cell_type": "code",
   "execution_count": null,
   "id": "5e6be235-156f-4a2f-9d52-e95279b87251",
   "metadata": {},
   "outputs": [],
   "source": [
    "fig, ax = plt.subplots()\n",
    "ax.plot(obj.xs, ret.x)\n",
    "\n",
    "plt.show()"
   ]
  },
  {
   "cell_type": "code",
   "execution_count": null,
   "id": "5225c50d-e2a8-4ebe-9906-e16bee019284",
   "metadata": {},
   "outputs": [],
   "source": [
    "obj.compute_objective_vals()"
   ]
  },
  {
   "cell_type": "markdown",
   "id": "e9ef27a7-f578-42dc-9b5c-eee1cd4ac3c6",
   "metadata": {},
   "source": [
    "## Using a sin wave as the starting potential"
   ]
  },
  {
   "cell_type": "code",
   "execution_count": null,
   "id": "f83e11bc-8c11-4ae4-9b14-c581f22f24ae",
   "metadata": {},
   "outputs": [],
   "source": [
    "y0 = 0.5*np.sin(np.linspace(0,np.pi*4,100))\n",
    "\n",
    "obj2 = Objective(objective_functions=objective_functions, lambs=lambs, y0=y0)"
   ]
  },
  {
   "cell_type": "code",
   "execution_count": null,
   "id": "03cc778f-61b0-4a42-a311-a92f0547a678",
   "metadata": {},
   "outputs": [],
   "source": [
    "ret2 = obj2.solve(options=options)\n",
    "ret2"
   ]
  },
  {
   "cell_type": "code",
   "execution_count": null,
   "id": "6ffdc346-cecb-4020-b5c8-dd3ac9e1ffb1",
   "metadata": {},
   "outputs": [],
   "source": [
    "fig, ax = plt.subplots()\n",
    "ax.plot(obj2.xs, ret2.x)\n",
    "\n",
    "plt.show()"
   ]
  },
  {
   "cell_type": "code",
   "execution_count": null,
   "id": "aff39f15-0635-4222-9915-419b68c0ff0d",
   "metadata": {},
   "outputs": [],
   "source": [
    "obj2.compute_objective_vals()"
   ]
  },
  {
   "cell_type": "markdown",
   "id": "fb17ae1a-5e70-4e63-b0b1-14842532eee4",
   "metadata": {},
   "source": [
    "# Notes\n",
    "- The potential is hardly moved from the starting value\n",
    "    - This implies that the space is covered in local minima"
   ]
  },
  {
   "cell_type": "code",
   "execution_count": null,
   "id": "4ed3dc92-2d22-494b-81ed-44bea17c3bb2",
   "metadata": {},
   "outputs": [],
   "source": []
  }
 ],
 "metadata": {
  "kernelspec": {
   "display_name": "Python 3 (ipykernel)",
   "language": "python",
   "name": "python3"
  },
  "language_info": {
   "codemirror_mode": {
    "name": "ipython",
    "version": 3
   },
   "file_extension": ".py",
   "mimetype": "text/x-python",
   "name": "python",
   "nbconvert_exporter": "python",
   "pygments_lexer": "ipython3",
   "version": "3.10.4"
  }
 },
 "nbformat": 4,
 "nbformat_minor": 5
}
