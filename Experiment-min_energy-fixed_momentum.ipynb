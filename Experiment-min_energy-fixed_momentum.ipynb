{
 "cells": [
  {
   "cell_type": "code",
   "execution_count": 1,
   "id": "507dc34c-1ccf-4366-a095-e8365890e09f",
   "metadata": {},
   "outputs": [],
   "source": [
    "import numpy as np, matplotlib.pyplot as plt\n",
    "from ring_trap_nm.nelder_mead.Objective import Objective"
   ]
  },
  {
   "cell_type": "markdown",
   "id": "b1bc4501-fbc0-4c60-9306-d37246e3d60c",
   "metadata": {
    "tags": []
   },
   "source": [
    "# Minimum Energy with Fixed Momentum"
   ]
  },
  {
   "cell_type": "code",
   "execution_count": 2,
   "id": "06a524c1-5059-4b68-91c1-9bfbb89dd3b5",
   "metadata": {},
   "outputs": [],
   "source": [
    "objective_functions = (\n",
    "    \"get_E_expectation\",\n",
    "    \"get_E_deviation\",\n",
    "    \"get_dist_p_expectation\",\n",
    "    \"get_p_deviation\",\n",
    "    \"get_V_smoothness\"\n",
    ")\n",
    "\n",
    "lambs = (\n",
    "    1.0,\n",
    "    5.0,\n",
    "    1.0,\n",
    "    5.0,\n",
    "    int(1e3)\n",
    ")\n",
    "\n",
    "options = {\n",
    "    \"maxiter\": int(1e6),\n",
    "    \"disp\": True\n",
    "}\n",
    "\n",
    "obj = Objective(objective_functions=objective_functions, lambs=lambs)"
   ]
  },
  {
   "cell_type": "code",
   "execution_count": 3,
   "id": "d304c23d-d506-45c7-b782-d4304b4ef2c7",
   "metadata": {},
   "outputs": [
    {
     "name": "stderr",
     "output_type": "stream",
     "text": [
      "c:\\Users\\jbran\\anaconda3\\envs\\ring_trap\\lib\\site-packages\\scipy\\integrate\\_ivp\\base.py:20: ComplexWarning: Casting complex values to real discards the imaginary part\n",
      "  return np.asarray(fun(t, y), dtype=dtype)\n"
     ]
    },
    {
     "name": "stdout",
     "output_type": "stream",
     "text": [
      "Optimization terminated successfully.\n",
      "         Current function value: 6.283185\n",
      "         Iterations: 1087\n",
      "         Function evaluations: 2087\n"
     ]
    },
    {
     "data": {
      "text/plain": [
       " final_simplex: (array([[0.00000000e+00, 0.00000000e+00, 0.00000000e+00, ...,\n",
       "        0.00000000e+00, 0.00000000e+00, 0.00000000e+00],\n",
       "       [2.12129426e-06, 1.71781940e-06, 1.83714646e-06, ...,\n",
       "        1.80143037e-06, 1.67265125e-06, 1.63153895e-06],\n",
       "       [1.66605552e-06, 1.71737025e-06, 1.83714915e-06, ...,\n",
       "        1.80104251e-06, 1.67215540e-06, 2.08910938e-06],\n",
       "       ...,\n",
       "       [1.67475970e-06, 1.75730565e-06, 1.84899217e-06, ...,\n",
       "        1.81885173e-06, 1.71073426e-06, 1.64178201e-06],\n",
       "       [1.67142628e-06, 1.74984569e-06, 1.88097806e-06, ...,\n",
       "        1.85016063e-06, 1.70490418e-06, 1.63826593e-06],\n",
       "       [1.66778489e-06, 1.75034010e-06, 1.90845739e-06, ...,\n",
       "        1.85264817e-06, 1.69780655e-06, 1.63443582e-06]]), array([6.28318531, 6.28324577, 6.28324687, 6.28325596, 6.28325646,\n",
       "       6.28325703, 6.28325747, 6.28325749, 6.28325766, 6.28325794,\n",
       "       6.2832583 , 6.28325831, 6.28325841, 6.28325872, 6.2832588 ,\n",
       "       6.28325908, 6.28325915, 6.28325927, 6.28325934, 6.28325955,\n",
       "       6.28325976, 6.28325992, 6.28326014, 6.28326019, 6.28326023,\n",
       "       6.28326025, 6.28326034, 6.28326041, 6.28326051, 6.28326054,\n",
       "       6.28326059, 6.28326066, 6.28326068, 6.28326071, 6.28326076,\n",
       "       6.28326081, 6.28326081, 6.28326091, 6.283261  , 6.28326112,\n",
       "       6.28326121, 6.28326124, 6.28326131, 6.28326135, 6.28326138,\n",
       "       6.28326139, 6.28326139, 6.2832615 , 6.28326151, 6.28326161,\n",
       "       6.28326162, 6.28326164, 6.28326178, 6.2832618 , 6.2832619 ,\n",
       "       6.28326192, 6.28326199, 6.28326204, 6.28326229, 6.2832623 ,\n",
       "       6.28326243, 6.28326245, 6.28326247, 6.28326251, 6.28326255,\n",
       "       6.28326274, 6.28326302, 6.28326306, 6.28326311, 6.28326324,\n",
       "       6.28326326, 6.28326344, 6.28326362, 6.28326371, 6.28326373,\n",
       "       6.28326395, 6.28326398, 6.28326399, 6.28326422, 6.28326465,\n",
       "       6.28326473, 6.28326496, 6.28326503, 6.28326532, 6.28326532,\n",
       "       6.28326543, 6.28326568, 6.28326585, 6.28326592, 6.28326592,\n",
       "       6.28326642, 6.28326652, 6.28326671, 6.28326676, 6.28326717,\n",
       "       6.28326725, 6.2832674 , 6.28326773, 6.28326785, 6.28326793,\n",
       "       6.28326824]))\n",
       "           fun: 6.283185307179586\n",
       "       message: 'Optimization terminated successfully.'\n",
       "          nfev: 2087\n",
       "           nit: 1087\n",
       "        status: 0\n",
       "       success: True\n",
       "             x: array([0., 0., 0., 0., 0., 0., 0., 0., 0., 0., 0., 0., 0., 0., 0., 0., 0.,\n",
       "       0., 0., 0., 0., 0., 0., 0., 0., 0., 0., 0., 0., 0., 0., 0., 0., 0.,\n",
       "       0., 0., 0., 0., 0., 0., 0., 0., 0., 0., 0., 0., 0., 0., 0., 0., 0.,\n",
       "       0., 0., 0., 0., 0., 0., 0., 0., 0., 0., 0., 0., 0., 0., 0., 0., 0.,\n",
       "       0., 0., 0., 0., 0., 0., 0., 0., 0., 0., 0., 0., 0., 0., 0., 0., 0.,\n",
       "       0., 0., 0., 0., 0., 0., 0., 0., 0., 0., 0., 0., 0., 0., 0.])"
      ]
     },
     "execution_count": 3,
     "metadata": {},
     "output_type": "execute_result"
    }
   ],
   "source": [
    "ret = obj.solve(options=options)\n",
    "ret"
   ]
  },
  {
   "cell_type": "code",
   "execution_count": 4,
   "id": "5e6be235-156f-4a2f-9d52-e95279b87251",
   "metadata": {},
   "outputs": [
    {
     "data": {
      "image/png": "[encoded data removed]",
      "text/plain": [
       "<Figure size 432x288 with 1 Axes>"
      ]
     },
     "metadata": {
      "needs_background": "light"
     },
     "output_type": "display_data"
    }
   ],
   "source": [
    "fig, ax = plt.subplots()\n",
    "ax.plot(obj.xs, ret.x)\n",
    "\n",
    "plt.show()"
   ]
  },
  {
   "cell_type": "code",
   "execution_count": 5,
   "id": "5225c50d-e2a8-4ebe-9906-e16bee019284",
   "metadata": {},
   "outputs": [
    {
     "name": "stderr",
     "output_type": "stream",
     "text": [
      "c:\\Users\\jbran\\anaconda3\\envs\\ring_trap\\lib\\site-packages\\scipy\\integrate\\_ivp\\base.py:20: ComplexWarning: Casting complex values to real discards the imaginary part\n",
      "  return np.asarray(fun(t, y), dtype=dtype)\n"
     ]
    },
    {
     "data": {
      "text/plain": [
       "array([0.00000000e+00, 0.00000000e+00, 6.28318531e+00, 0.00000000e+00,\n",
       "       6.04610188e-08])"
      ]
     },
     "execution_count": 5,
     "metadata": {},
     "output_type": "execute_result"
    }
   ],
   "source": [
    "obj.compute_objective_vals()"
   ]
  },
  {
   "cell_type": "markdown",
   "id": "e9ef27a7-f578-42dc-9b5c-eee1cd4ac3c6",
   "metadata": {},
   "source": [
    "## Using a sin wave as the starting potential"
   ]
  },
  {
   "cell_type": "code",
   "execution_count": 6,
   "id": "f83e11bc-8c11-4ae4-9b14-c581f22f24ae",
   "metadata": {},
   "outputs": [],
   "source": [
    "y0 = 0.5*np.sin(np.linspace(0,np.pi*4,100))\n",
    "\n",
    "obj2 = Objective(objective_functions=objective_functions, lambs=lambs, y0=y0)"
   ]
  },
  {
   "cell_type": "code",
   "execution_count": 7,
   "id": "03cc778f-61b0-4a42-a311-a92f0547a678",
   "metadata": {},
   "outputs": [],
   "source": [
    "ret2 = obj2.solve(options=options)\n",
    "ret2"
   ]
  },
  {
   "cell_type": "code",
   "execution_count": null,
   "id": "6ffdc346-cecb-4020-b5c8-dd3ac9e1ffb1",
   "metadata": {},
   "outputs": [
    {
     "ename": "NameError",
     "evalue": "name 'ret2' is not defined",
     "output_type": "error",
     "traceback": [
      "\u001b[1;31m---------------------------------------------------------------------------\u001b[0m",
      "\u001b[1;31mNameError\u001b[0m                                 Traceback (most recent call last)",
      "\u001b[1;32mc:\\Users\\jbran\\WS\\quantum\\ring_trap_nm\\Experiment-min_energy-fixed_momentum.ipynb Cell 11\u001b[0m in \u001b[0;36m<cell line: 2>\u001b[1;34m()\u001b[0m\n\u001b[0;32m      <a href='vscode-notebook-cell:/c%3A/Users/jbran/WS/quantum/ring_trap_nm/Experiment-min_energy-fixed_momentum.ipynb#ch0000009?line=0'>1</a>\u001b[0m fig, ax \u001b[39m=\u001b[39m plt\u001b[39m.\u001b[39msubplots()\n\u001b[1;32m----> <a href='vscode-notebook-cell:/c%3A/Users/jbran/WS/quantum/ring_trap_nm/Experiment-min_energy-fixed_momentum.ipynb#ch0000009?line=1'>2</a>\u001b[0m ax\u001b[39m.\u001b[39mplot(obj2\u001b[39m.\u001b[39mxs, ret2\u001b[39m.\u001b[39mx)\n\u001b[0;32m      <a href='vscode-notebook-cell:/c%3A/Users/jbran/WS/quantum/ring_trap_nm/Experiment-min_energy-fixed_momentum.ipynb#ch0000009?line=3'>4</a>\u001b[0m plt\u001b[39m.\u001b[39mshow()\n",
      "\u001b[1;31mNameError\u001b[0m: name 'ret2' is not defined"
     ]
    },
    {
     "data": {
      "image/png": "[encoded data removed]",
      "text/plain": [
       "<Figure size 432x288 with 1 Axes>"
      ]
     },
     "metadata": {
      "needs_background": "light"
     },
     "output_type": "display_data"
    }
   ],
   "source": [
    "fig, ax = plt.subplots()\n",
    "ax.plot(obj2.xs, ret2.x)\n",
    "\n",
    "plt.show()"
   ]
  },
  {
   "cell_type": "code",
   "execution_count": null,
   "id": "aff39f15-0635-4222-9915-419b68c0ff0d",
   "metadata": {},
   "outputs": [
    {
     "name": "stderr",
     "output_type": "stream",
     "text": [
      "c:\\Users\\jbran\\anaconda3\\envs\\ring_trap\\lib\\site-packages\\scipy\\integrate\\_ivp\\base.py:20: ComplexWarning: Casting complex values to real discards the imaginary part\n",
      "  return np.asarray(fun(t, y), dtype=dtype)\n"
     ]
    },
    {
     "data": {
      "text/plain": [
       "array([1.32919961e+01, 3.31444394e+01, 7.87914797e+00, 7.02743195e+00,\n",
       "       7.75105224e-04])"
      ]
     },
     "execution_count": 9,
     "metadata": {},
     "output_type": "execute_result"
    }
   ],
   "source": [
    "obj2.compute_objective_vals()"
   ]
  },
  {
   "cell_type": "code",
   "execution_count": null,
   "id": "4ed3dc92-2d22-494b-81ed-44bea17c3bb2",
   "metadata": {},
   "outputs": [],
   "source": [
    "from ring_trap_nm.nelder_mead.HyperParamsOpt import HyperParamsOptimizer\n",
    "\n",
    "hyp_optimizer = HyperParamsOptimizer(objective=obj2)"
   ]
  }
 ],
 "metadata": {
  "kernelspec": {
   "display_name": "Python 3.10.4 ('ring_trap')",
   "language": "python",
   "name": "python3"
  },
  "language_info": {
   "codemirror_mode": {
    "name": "ipython",
    "version": 3
   },
   "file_extension": ".py",
   "mimetype": "text/x-python",
   "name": "python",
   "nbconvert_exporter": "python",
   "pygments_lexer": "ipython3",
   "version": "3.10.4"
  },
  "vscode": {
   "interpreter": {
    "hash": "63a8336d42f50b5a827670819e9cf17db558f990ef99450bb4526797c60fdda6"
   }
  }
 },
 "nbformat": 4,
 "nbformat_minor": 5
}
