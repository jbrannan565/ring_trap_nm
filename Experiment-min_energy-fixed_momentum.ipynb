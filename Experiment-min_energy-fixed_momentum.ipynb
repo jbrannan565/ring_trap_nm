{
 "cells": [
  {
   "cell_type": "code",
   "execution_count": 1,
   "id": "507dc34c-1ccf-4366-a095-e8365890e09f",
   "metadata": {},
   "outputs": [],
   "source": [
    "import numpy as np, matplotlib.pyplot as plt\n",
    "from ring_trap_nm.nelder_mead.Objective import Objective"
   ]
  },
  {
   "cell_type": "markdown",
   "id": "b1bc4501-fbc0-4c60-9306-d37246e3d60c",
   "metadata": {
    "tags": []
   },
   "source": [
    "# Minimum Energy with Fixed Momentum"
   ]
  },
  {
   "cell_type": "code",
   "execution_count": 2,
   "id": "06a524c1-5059-4b68-91c1-9bfbb89dd3b5",
   "metadata": {},
   "outputs": [],
   "source": [
    "objective_functions = (\n",
    "    \"get_E_expectation\",\n",
    "    \"get_E_deviation\",\n",
    "    \"get_p_expectation\",\n",
    "    \"get_p_deviation\",\n",
    "    \"get_V_smoothness\"\n",
    ")\n",
    "\n",
    "lambs = (\n",
    "    1.0,\n",
    "    5.0,\n",
    "    1.0,\n",
    "    5.0,\n",
    "    int(1e3)\n",
    ")\n",
    "\n",
    "options = {\n",
    "    \"maxiter\": int(1e6),\n",
    "    \"disp\": True\n",
    "}\n",
    "\n",
    "obj = Objective(objective_functions=objective_functions, lambs=lambs)"
   ]
  },
  {
   "cell_type": "code",
   "execution_count": 3,
   "id": "d304c23d-d506-45c7-b782-d4304b4ef2c7",
   "metadata": {},
   "outputs": [
    {
     "name": "stderr",
     "output_type": "stream",
     "text": [
      "c:\\Users\\jbran\\anaconda3\\envs\\ring_trap\\lib\\site-packages\\scipy\\integrate\\_ivp\\base.py:20: ComplexWarning: Casting complex values to real discards the imaginary part\n",
      "  return np.asarray(fun(t, y), dtype=dtype)\n"
     ]
    },
    {
     "name": "stdout",
     "output_type": "stream",
     "text": [
      "Optimization terminated successfully.\n",
      "         Current function value: 0.000000\n",
      "         Iterations: 1095\n",
      "         Function evaluations: 2094\n"
     ]
    },
    {
     "data": {
      "text/plain": [
       " final_simplex: (array([[0.00000000e+00, 0.00000000e+00, 0.00000000e+00, ...,\n",
       "        0.00000000e+00, 0.00000000e+00, 0.00000000e+00],\n",
       "       [1.53376826e-06, 1.67445889e-06, 1.85830251e-06, ...,\n",
       "        2.12607532e-06, 2.09452847e-06, 2.52124701e-06],\n",
       "       [1.52924345e-06, 1.64312013e-06, 1.78995727e-06, ...,\n",
       "        2.05768848e-06, 2.45516566e-06, 2.02534450e-06],\n",
       "       ...,\n",
       "       [1.53841204e-06, 1.70610891e-06, 1.91786288e-06, ...,\n",
       "        2.17037030e-06, 2.16125784e-06, 2.15833680e-06],\n",
       "       [1.54018402e-06, 1.71085227e-06, 1.91992540e-06, ...,\n",
       "        2.18319209e-06, 2.17814531e-06, 2.15487277e-06],\n",
       "       [2.45536807e-06, 1.68793906e-06, 1.90574078e-06, ...,\n",
       "        2.16875899e-06, 2.16262649e-06, 2.16418409e-06]]), array([0.00000000e+00, 6.02684720e-05, 6.96627240e-05, 7.09884333e-05,\n",
       "       7.11670616e-05, 7.12262983e-05, 7.24509646e-05, 7.25080586e-05,\n",
       "       7.25754770e-05, 7.26508761e-05, 7.26715115e-05, 7.27386969e-05,\n",
       "       7.28469207e-05, 7.35274419e-05, 7.35539468e-05, 7.36240448e-05,\n",
       "       7.38649337e-05, 7.39479649e-05, 7.39715756e-05, 7.42941613e-05,\n",
       "       7.43081742e-05, 7.44970261e-05, 7.46111511e-05, 7.46671723e-05,\n",
       "       7.48279836e-05, 7.48893339e-05, 7.50106925e-05, 7.50525026e-05,\n",
       "       7.51348589e-05, 7.51614415e-05, 7.52006261e-05, 7.52108416e-05,\n",
       "       7.52164991e-05, 7.53220652e-05, 7.53242316e-05, 7.53480693e-05,\n",
       "       7.53600713e-05, 7.54173776e-05, 7.54196934e-05, 7.54471055e-05,\n",
       "       7.56864578e-05, 7.57161599e-05, 7.59724423e-05, 7.60565865e-05,\n",
       "       7.62197904e-05, 7.62258835e-05, 7.62358011e-05, 7.62778341e-05,\n",
       "       7.65380869e-05, 7.68429183e-05, 7.69810788e-05, 7.71107154e-05,\n",
       "       7.71850479e-05, 7.72865279e-05, 7.73711327e-05, 7.74911346e-05,\n",
       "       7.76410542e-05, 7.76907331e-05, 7.77275435e-05, 7.77410744e-05,\n",
       "       7.81174217e-05, 7.81381295e-05, 7.81955281e-05, 7.84734288e-05,\n",
       "       7.85587211e-05, 7.86059770e-05, 7.94958311e-05, 7.95550353e-05,\n",
       "       7.97076914e-05, 7.97386223e-05, 7.98542807e-05, 7.99354265e-05,\n",
       "       7.99498780e-05, 8.01174517e-05, 8.04105736e-05, 8.06825863e-05,\n",
       "       8.07504717e-05, 8.08300289e-05, 8.09029436e-05, 8.09917460e-05,\n",
       "       8.10253241e-05, 8.11982717e-05, 8.12685184e-05, 8.13025172e-05,\n",
       "       8.14602971e-05, 8.14656475e-05, 8.16771376e-05, 8.18371768e-05,\n",
       "       8.20322820e-05, 8.20406095e-05, 8.20477389e-05, 8.21275288e-05,\n",
       "       8.26301162e-05, 8.27397621e-05, 8.27804812e-05, 8.29367117e-05,\n",
       "       8.33470330e-05, 8.34460336e-05, 8.42849015e-05, 8.53133251e-05,\n",
       "       9.35663015e-05]))\n",
       "           fun: 0.0\n",
       "       message: 'Optimization terminated successfully.'\n",
       "          nfev: 2094\n",
       "           nit: 1095\n",
       "        status: 0\n",
       "       success: True\n",
       "             x: array([0., 0., 0., 0., 0., 0., 0., 0., 0., 0., 0., 0., 0., 0., 0., 0., 0.,\n",
       "       0., 0., 0., 0., 0., 0., 0., 0., 0., 0., 0., 0., 0., 0., 0., 0., 0.,\n",
       "       0., 0., 0., 0., 0., 0., 0., 0., 0., 0., 0., 0., 0., 0., 0., 0., 0.,\n",
       "       0., 0., 0., 0., 0., 0., 0., 0., 0., 0., 0., 0., 0., 0., 0., 0., 0.,\n",
       "       0., 0., 0., 0., 0., 0., 0., 0., 0., 0., 0., 0., 0., 0., 0., 0., 0.,\n",
       "       0., 0., 0., 0., 0., 0., 0., 0., 0., 0., 0., 0., 0., 0., 0.])"
      ]
     },
     "execution_count": 3,
     "metadata": {},
     "output_type": "execute_result"
    }
   ],
   "source": [
    "ret = obj.solve(options=options)\n",
    "ret"
   ]
  },
  {
   "cell_type": "code",
   "execution_count": 4,
   "id": "5e6be235-156f-4a2f-9d52-e95279b87251",
   "metadata": {},
   "outputs": [
    {
     "data": {
      "image/png": "[encoded data removed]",
      "text/plain": [
       "<Figure size 432x288 with 1 Axes>"
      ]
     },
     "metadata": {
      "needs_background": "light"
     },
     "output_type": "display_data"
    }
   ],
   "source": [
    "fig, ax = plt.subplots()\n",
    "ax.plot(obj.xs, ret.x)\n",
    "\n",
    "plt.show()"
   ]
  },
  {
   "cell_type": "code",
   "execution_count": 5,
   "id": "5225c50d-e2a8-4ebe-9906-e16bee019284",
   "metadata": {},
   "outputs": [
    {
     "name": "stderr",
     "output_type": "stream",
     "text": [
      "c:\\Users\\jbran\\anaconda3\\envs\\ring_trap\\lib\\site-packages\\scipy\\integrate\\_ivp\\base.py:20: ComplexWarning: Casting complex values to real discards the imaginary part\n",
      "  return np.asarray(fun(t, y), dtype=dtype)\n"
     ]
    },
    {
     "data": {
      "text/plain": [
       "array([0.0000000e+00, 0.0000000e+00, 0.0000000e+00, 0.0000000e+00,\n",
       "       6.0268472e-08])"
      ]
     },
     "execution_count": 5,
     "metadata": {},
     "output_type": "execute_result"
    }
   ],
   "source": [
    "obj.compute_objective_vals()"
   ]
  },
  {
   "cell_type": "markdown",
   "id": "e9ef27a7-f578-42dc-9b5c-eee1cd4ac3c6",
   "metadata": {},
   "source": [
    "## Using a sin wave as the starting potential"
   ]
  },
  {
   "cell_type": "code",
   "execution_count": 6,
   "id": "f83e11bc-8c11-4ae4-9b14-c581f22f24ae",
   "metadata": {},
   "outputs": [],
   "source": [
    "y0 = 0.5*np.sin(np.linspace(0,np.pi*4,100))\n",
    "\n",
    "obj2 = Objective(objective_functions=objective_functions, lambs=lambs, y0=y0)"
   ]
  },
  {
   "cell_type": "code",
   "execution_count": 7,
   "id": "03cc778f-61b0-4a42-a311-a92f0547a678",
   "metadata": {},
   "outputs": [
    {
     "name": "stdout",
     "output_type": "stream",
     "text": [
      "Optimization terminated successfully.\n",
      "         Current function value: 222.805563\n",
      "         Iterations: 437455\n",
      "         Function evaluations: 467065\n"
     ]
    },
    {
     "data": {
      "text/plain": [
       " final_simplex: (array([[ 1.38030970e-01,  1.35442332e-01,  1.33093248e-01, ...,\n",
       "         1.23945554e-03,  5.72808471e-04, -7.61819036e-15],\n",
       "       [ 1.38032875e-01,  1.35455144e-01,  1.33104513e-01, ...,\n",
       "         1.23287286e-03,  5.57771782e-04, -7.61838221e-15],\n",
       "       [ 1.38033270e-01,  1.35455310e-01,  1.33101752e-01, ...,\n",
       "         1.23912251e-03,  5.70273436e-04, -7.61820209e-15],\n",
       "       ...,\n",
       "       [ 1.38027064e-01,  1.35440712e-01,  1.33085136e-01, ...,\n",
       "         1.25270230e-03,  5.75975415e-04, -7.61752617e-15],\n",
       "       [ 1.38029839e-01,  1.35464250e-01,  1.33118063e-01, ...,\n",
       "         1.24183536e-03,  5.70843450e-04, -7.61873141e-15],\n",
       "       [ 1.38035898e-01,  1.35462396e-01,  1.33098789e-01, ...,\n",
       "         1.24450642e-03,  5.68020439e-04, -7.61825641e-15]]), array([222.80556306, 222.80556498, 222.80556565, 222.80556877,\n",
       "       222.80556949, 222.8055721 , 222.8055742 , 222.80557558,\n",
       "       222.80557715, 222.80557716, 222.80557863, 222.80557925,\n",
       "       222.80557954, 222.80558915, 222.80559608, 222.80560433,\n",
       "       222.80560573, 222.80560598, 222.80560611, 222.80560625,\n",
       "       222.80560675, 222.80560678, 222.80560825, 222.80560961,\n",
       "       222.80560983, 222.80561395, 222.80561492, 222.80561664,\n",
       "       222.80561676, 222.8056172 , 222.80561824, 222.80561877,\n",
       "       222.80561952, 222.80561974, 222.80561992, 222.80562023,\n",
       "       222.80562076, 222.805621  , 222.80562114, 222.80562133,\n",
       "       222.80562143, 222.80562258, 222.80562301, 222.80562335,\n",
       "       222.80562338, 222.80562343, 222.80562352, 222.80562392,\n",
       "       222.80562514, 222.80562583, 222.80562847, 222.80562882,\n",
       "       222.80562959, 222.80562964, 222.80563023, 222.80563044,\n",
       "       222.805631  , 222.80563154, 222.80563302, 222.80563303,\n",
       "       222.80563326, 222.80563349, 222.80563457, 222.80563517,\n",
       "       222.80563602, 222.80563621, 222.80563628, 222.80563876,\n",
       "       222.80563877, 222.80563919, 222.80563929, 222.80564002,\n",
       "       222.80564015, 222.80564059, 222.80564077, 222.80564118,\n",
       "       222.80564132, 222.80564383, 222.80564424, 222.80564468,\n",
       "       222.80564521, 222.80564571, 222.80564649, 222.80564662,\n",
       "       222.80564723, 222.80564732, 222.80564767, 222.80564777,\n",
       "       222.80564832, 222.80564874, 222.80564971, 222.80565185,\n",
       "       222.80565355, 222.80565498, 222.80565548, 222.80565563,\n",
       "       222.80565565, 222.80565731, 222.80565919, 222.80566137,\n",
       "       222.80566251]))\n",
       "           fun: 222.80556306162146\n",
       "       message: 'Optimization terminated successfully.'\n",
       "          nfev: 467065\n",
       "           nit: 437455\n",
       "        status: 0\n",
       "       success: True\n",
       "             x: array([ 1.38030970e-01,  1.35442332e-01,  1.33093248e-01,  1.30863100e-01,\n",
       "        1.28513843e-01,  1.25989348e-01,  1.23519606e-01,  1.21232744e-01,\n",
       "        1.19124018e-01,  1.17149714e-01,  1.14936161e-01,  1.12762935e-01,\n",
       "        1.10570519e-01,  1.08412810e-01,  1.06095278e-01,  1.03798572e-01,\n",
       "        1.01547537e-01,  9.91593296e-02,  9.65276528e-02,  9.38838474e-02,\n",
       "        9.14076653e-02,  8.87474617e-02,  8.60722172e-02,  8.37488321e-02,\n",
       "        8.12413539e-02,  7.90425759e-02,  7.72917429e-02,  7.55947494e-02,\n",
       "        7.37312852e-02,  7.18855519e-02,  7.01948171e-02,  6.83468649e-02,\n",
       "        6.66293732e-02,  6.49030852e-02,  6.31003044e-02,  6.12838842e-02,\n",
       "        5.95803552e-02,  5.79403659e-02,  5.62410694e-02,  5.42862944e-02,\n",
       "        5.21904749e-02,  5.00960370e-02,  4.81027234e-02,  4.62254012e-02,\n",
       "        4.44450055e-02,  4.25331543e-02,  4.07953898e-02,  3.90567074e-02,\n",
       "        3.72981829e-02,  3.53528716e-02,  3.40277583e-02,  3.28934958e-02,\n",
       "        3.20123252e-02,  3.10207955e-02,  3.02152302e-02,  2.91593386e-02,\n",
       "        2.81137772e-02,  2.71489263e-02,  2.60020752e-02,  2.49198831e-02,\n",
       "        2.39799108e-02,  2.28415669e-02,  2.18733018e-02,  2.06662761e-02,\n",
       "        1.95427749e-02,  1.84671202e-02,  1.74742039e-02,  1.63668362e-02,\n",
       "        1.52561421e-02,  1.40358384e-02,  1.29719515e-02,  1.18463283e-02,\n",
       "        1.08074236e-02,  9.85548822e-03,  8.92385113e-03,  8.48549870e-03,\n",
       "        8.22767981e-03,  7.87470012e-03,  7.50919878e-03,  7.25824543e-03,\n",
       "        7.17806808e-03,  6.74252850e-03,  6.49739651e-03,  6.40591210e-03,\n",
       "        6.15606167e-03,  5.96359164e-03,  5.68885295e-03,  5.40015244e-03,\n",
       "        5.15742611e-03,  4.84126498e-03,  4.39215890e-03,  3.84486936e-03,\n",
       "        3.39844170e-03,  3.05948528e-03,  2.70997504e-03,  2.24089637e-03,\n",
       "        1.83231322e-03,  1.23945554e-03,  5.72808471e-04, -7.61819036e-15])"
      ]
     },
     "execution_count": 7,
     "metadata": {},
     "output_type": "execute_result"
    }
   ],
   "source": [
    "ret2 = obj2.solve(options=options)\n",
    "ret2"
   ]
  },
  {
   "cell_type": "code",
   "execution_count": 8,
   "id": "6ffdc346-cecb-4020-b5c8-dd3ac9e1ffb1",
   "metadata": {},
   "outputs": [
    {
     "data": {
      "image/png": "[encoded data removed]",
      "text/plain": [
       "<Figure size 432x288 with 1 Axes>"
      ]
     },
     "metadata": {
      "needs_background": "light"
     },
     "output_type": "display_data"
    }
   ],
   "source": [
    "fig, ax = plt.subplots()\n",
    "ax.plot(obj2.xs, ret2.x)\n",
    "\n",
    "plt.show()"
   ]
  },
  {
   "cell_type": "code",
   "execution_count": 9,
   "id": "aff39f15-0635-4222-9915-419b68c0ff0d",
   "metadata": {},
   "outputs": [
    {
     "name": "stderr",
     "output_type": "stream",
     "text": [
      "c:\\Users\\jbran\\anaconda3\\envs\\ring_trap\\lib\\site-packages\\scipy\\integrate\\_ivp\\base.py:20: ComplexWarning: Casting complex values to real discards the imaginary part\n",
      "  return np.asarray(fun(t, y), dtype=dtype)\n"
     ]
    },
    {
     "data": {
      "text/plain": [
       "array([1.32919961e+01, 3.31444394e+01, 7.87914797e+00, 7.02743195e+00,\n",
       "       7.75105224e-04])"
      ]
     },
     "execution_count": 9,
     "metadata": {},
     "output_type": "execute_result"
    }
   ],
   "source": [
    "obj2.compute_objective_vals()"
   ]
  },
  {
   "cell_type": "code",
   "execution_count": null,
   "id": "4ed3dc92-2d22-494b-81ed-44bea17c3bb2",
   "metadata": {},
   "outputs": [],
   "source": []
  }
 ],
 "metadata": {
  "kernelspec": {
   "display_name": "Python 3.10.4 ('ring_trap')",
   "language": "python",
   "name": "python3"
  },
  "language_info": {
   "codemirror_mode": {
    "name": "ipython",
    "version": 3
   },
   "file_extension": ".py",
   "mimetype": "text/x-python",
   "name": "python",
   "nbconvert_exporter": "python",
   "pygments_lexer": "ipython3",
   "version": "3.10.4"
  },
  "vscode": {
   "interpreter": {
    "hash": "63a8336d42f50b5a827670819e9cf17db558f990ef99450bb4526797c60fdda6"
   }
  }
 },
 "nbformat": 4,
 "nbformat_minor": 5
}
