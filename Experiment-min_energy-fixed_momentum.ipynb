{
 "cells": [
  {
   "cell_type": "code",
   "execution_count": 1,
   "id": "507dc34c-1ccf-4366-a095-e8365890e09f",
   "metadata": {},
   "outputs": [],
   "source": [
    "import numpy as np, matplotlib.pyplot as plt\n",
    "from ring_trap_nm.nelder_mead.Objective import Objective"
   ]
  },
  {
   "cell_type": "markdown",
   "id": "b1bc4501-fbc0-4c60-9306-d37246e3d60c",
   "metadata": {
    "tags": []
   },
   "source": [
    "# Minimum Energy with Fixed Momentum"
   ]
  },
  {
   "cell_type": "code",
   "execution_count": null,
   "id": "06a524c1-5059-4b68-91c1-9bfbb89dd3b5",
   "metadata": {},
   "outputs": [],
   "source": []
  }
 ],
 "metadata": {
  "kernelspec": {
   "display_name": "Python 3 (ipykernel)",
   "language": "python",
   "name": "python3"
  },
  "language_info": {
   "codemirror_mode": {
    "name": "ipython",
    "version": 3
   },
   "file_extension": ".py",
   "mimetype": "text/x-python",
   "name": "python",
   "nbconvert_exporter": "python",
   "pygments_lexer": "ipython3",
   "version": "3.10.4"
  }
 },
 "nbformat": 4,
 "nbformat_minor": 5
}
