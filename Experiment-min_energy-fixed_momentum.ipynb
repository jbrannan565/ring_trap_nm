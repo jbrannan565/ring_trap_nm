{
 "cells": [
  {
   "cell_type": "code",
<<<<<<< HEAD
   "execution_count": 12,
=======
   "execution_count": 6,
>>>>>>> 54621348df8040a7ca41ef4788145870b805b910
   "id": "507dc34c-1ccf-4366-a095-e8365890e09f",
   "metadata": {},
   "outputs": [
    {
     "ename": "ModuleNotFoundError",
     "evalue": "No module named 'ring_trap_nm'",
     "output_type": "error",
     "traceback": [
      "\u001b[0;31m---------------------------------------------------------------------------\u001b[0m",
      "\u001b[0;31mModuleNotFoundError\u001b[0m                       Traceback (most recent call last)",
      "Input \u001b[0;32mIn [6]\u001b[0m, in \u001b[0;36m<cell line: 2>\u001b[0;34m()\u001b[0m\n\u001b[1;32m      1\u001b[0m \u001b[38;5;28;01mimport\u001b[39;00m \u001b[38;5;21;01mnumpy\u001b[39;00m \u001b[38;5;28;01mas\u001b[39;00m \u001b[38;5;21;01mnp\u001b[39;00m\u001b[38;5;241m,\u001b[39m \u001b[38;5;21;01mmatplotlib\u001b[39;00m\u001b[38;5;21;01m.\u001b[39;00m\u001b[38;5;21;01mpyplot\u001b[39;00m \u001b[38;5;28;01mas\u001b[39;00m \u001b[38;5;21;01mplt\u001b[39;00m\n\u001b[0;32m----> 2\u001b[0m \u001b[38;5;28;01mfrom\u001b[39;00m \u001b[38;5;21;01mring_trap_nm\u001b[39;00m\u001b[38;5;21;01m.\u001b[39;00m\u001b[38;5;21;01mnelder_mead\u001b[39;00m\u001b[38;5;21;01m.\u001b[39;00m\u001b[38;5;21;01mObjective\u001b[39;00m \u001b[38;5;28;01mimport\u001b[39;00m Objective\n",
      "\u001b[0;31mModuleNotFoundError\u001b[0m: No module named 'ring_trap_nm'"
     ]
    }
   ],
   "source": [
    "import numpy as np, matplotlib.pyplot as plt\n",
    "from ring_trap_nm.nelder_mead.Objective import Objective"
   ]
  },
  {
   "cell_type": "markdown",
   "id": "b1bc4501-fbc0-4c60-9306-d37246e3d60c",
   "metadata": {
    "tags": []
   },
   "source": [
    "# Minimum Energy with Fixed Momentum"
   ]
  },
  {
   "cell_type": "code",
   "execution_count": 21,
   "id": "06a524c1-5059-4b68-91c1-9bfbb89dd3b5",
   "metadata": {},
   "outputs": [],
   "source": [
    "objective_functions = (\n",
    "    \"get_E_expectation\",\n",
    "    \"get_E_deviation\",\n",
    "    \"get_dist_p_expectation\",\n",
    "    \"get_p_deviation\",\n",
    "    \"get_V_smoothness\"\n",
    ")\n",
    "\n",
    "lambs = (\n",
    "    1.0,\n",
    "    5.0,\n",
    "    1.0,\n",
    "    5.0,\n",
    "    int(1e3)\n",
    ")\n",
    "\n",
    "options = {\n",
    "    \"maxiter\": int(1e6),\n",
    "    \"disp\": True\n",
    "}\n",
    "\n",
    "obj = Objective(objective_functions=objective_functions, lambs=lambs)"
   ]
  },
  {
   "cell_type": "code",
   "execution_count": 22,
   "id": "d304c23d-d506-45c7-b782-d4304b4ef2c7",
   "metadata": {},
   "outputs": [
    {
     "name": "stdout",
     "output_type": "stream",
     "text": [
      "Optimization terminated successfully.\n",
      "         Current function value: 6.283185\n",
      "         Iterations: 1087\n",
      "         Function evaluations: 2087\n"
     ]
    },
    {
     "data": {
      "text/plain": [
       " final_simplex: (array([[0.00000000e+00, 0.00000000e+00, 0.00000000e+00, ...,\n",
       "        0.00000000e+00, 0.00000000e+00, 0.00000000e+00],\n",
       "       [2.12129426e-06, 1.71781940e-06, 1.83714646e-06, ...,\n",
       "        1.80143037e-06, 1.67265125e-06, 1.63153895e-06],\n",
       "       [1.66605552e-06, 1.71737025e-06, 1.83714915e-06, ...,\n",
       "        1.80104251e-06, 1.67215540e-06, 2.08910938e-06],\n",
       "       ...,\n",
       "       [1.67475970e-06, 1.75730565e-06, 1.84899217e-06, ...,\n",
       "        1.81885173e-06, 1.71073426e-06, 1.64178201e-06],\n",
       "       [1.67142628e-06, 1.74984569e-06, 1.88097806e-06, ...,\n",
       "        1.85016063e-06, 1.70490418e-06, 1.63826593e-06],\n",
       "       [1.66778489e-06, 1.75034010e-06, 1.90845739e-06, ...,\n",
       "        1.85264817e-06, 1.69780655e-06, 1.63443582e-06]]), array([6.28318531, 6.28324577, 6.28324687, 6.28325596, 6.28325646,\n",
       "       6.28325703, 6.28325747, 6.28325749, 6.28325766, 6.28325794,\n",
       "       6.2832583 , 6.28325831, 6.28325841, 6.28325872, 6.2832588 ,\n",
       "       6.28325908, 6.28325915, 6.28325927, 6.28325934, 6.28325955,\n",
       "       6.28325976, 6.28325992, 6.28326014, 6.28326019, 6.28326023,\n",
       "       6.28326025, 6.28326034, 6.28326041, 6.28326051, 6.28326054,\n",
       "       6.28326059, 6.28326066, 6.28326068, 6.28326071, 6.28326076,\n",
       "       6.28326081, 6.28326081, 6.28326091, 6.283261  , 6.28326112,\n",
       "       6.28326121, 6.28326124, 6.28326131, 6.28326135, 6.28326138,\n",
       "       6.28326139, 6.28326139, 6.2832615 , 6.28326151, 6.28326161,\n",
       "       6.28326162, 6.28326164, 6.28326178, 6.2832618 , 6.2832619 ,\n",
       "       6.28326192, 6.28326199, 6.28326204, 6.28326229, 6.2832623 ,\n",
       "       6.28326243, 6.28326245, 6.28326247, 6.28326251, 6.28326255,\n",
       "       6.28326274, 6.28326302, 6.28326306, 6.28326311, 6.28326324,\n",
       "       6.28326326, 6.28326344, 6.28326362, 6.28326371, 6.28326373,\n",
       "       6.28326395, 6.28326398, 6.28326399, 6.28326422, 6.28326465,\n",
       "       6.28326473, 6.28326496, 6.28326503, 6.28326532, 6.28326532,\n",
       "       6.28326543, 6.28326568, 6.28326585, 6.28326592, 6.28326592,\n",
       "       6.28326642, 6.28326652, 6.28326671, 6.28326676, 6.28326717,\n",
       "       6.28326725, 6.2832674 , 6.28326773, 6.28326785, 6.28326793,\n",
       "       6.28326824]))\n",
       "           fun: 6.283185307179586\n",
       "       message: 'Optimization terminated successfully.'\n",
       "          nfev: 2087\n",
       "           nit: 1087\n",
       "        status: 0\n",
       "       success: True\n",
       "             x: array([0., 0., 0., 0., 0., 0., 0., 0., 0., 0., 0., 0., 0., 0., 0., 0., 0.,\n",
       "       0., 0., 0., 0., 0., 0., 0., 0., 0., 0., 0., 0., 0., 0., 0., 0., 0.,\n",
       "       0., 0., 0., 0., 0., 0., 0., 0., 0., 0., 0., 0., 0., 0., 0., 0., 0.,\n",
       "       0., 0., 0., 0., 0., 0., 0., 0., 0., 0., 0., 0., 0., 0., 0., 0., 0.,\n",
       "       0., 0., 0., 0., 0., 0., 0., 0., 0., 0., 0., 0., 0., 0., 0., 0., 0.,\n",
       "       0., 0., 0., 0., 0., 0., 0., 0., 0., 0., 0., 0., 0., 0., 0.])"
      ]
     },
     "execution_count": 22,
     "metadata": {},
     "output_type": "execute_result"
    }
   ],
   "source": [
    "ret = obj.solve(options=options)\n",
    "ret"
   ]
  },
  {
   "cell_type": "code",
   "execution_count": 23,
   "id": "5e6be235-156f-4a2f-9d52-e95279b87251",
   "metadata": {},
   "outputs": [
    {
     "data": {
      "image/png": "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",
      "text/plain": [
       "<Figure size 432x288 with 1 Axes>"
      ]
     },
     "metadata": {
      "needs_background": "light"
     },
     "output_type": "display_data"
    }
   ],
   "source": [
    "fig, ax = plt.subplots()\n",
    "ax.plot(obj.xs, ret.x)\n",
    "\n",
    "plt.show()"
   ]
  },
  {
   "cell_type": "code",
   "execution_count": 24,
   "id": "5225c50d-e2a8-4ebe-9906-e16bee019284",
   "metadata": {},
   "outputs": [
    {
     "name": "stderr",
     "output_type": "stream",
     "text": [
      "c:\\Users\\jbran\\anaconda3\\envs\\ring_trap\\lib\\site-packages\\scipy\\integrate\\_ivp\\base.py:20: ComplexWarning: Casting complex values to real discards the imaginary part\n",
      "  return np.asarray(fun(t, y), dtype=dtype)\n"
     ]
    },
    {
     "data": {
      "text/plain": [
       "array([0.00000000e+00, 0.00000000e+00, 6.28318531e+00, 0.00000000e+00,\n",
       "       6.04610188e-08])"
      ]
     },
     "execution_count": 24,
     "metadata": {},
     "output_type": "execute_result"
    }
   ],
   "source": [
    "obj.compute_objective_vals()"
   ]
  },
  {
   "cell_type": "markdown",
   "id": "e9ef27a7-f578-42dc-9b5c-eee1cd4ac3c6",
   "metadata": {},
   "source": [
    "## Using a sin wave as the starting potential"
   ]
  },
  {
   "cell_type": "code",
   "execution_count": 25,
   "id": "f83e11bc-8c11-4ae4-9b14-c581f22f24ae",
   "metadata": {},
   "outputs": [],
   "source": [
    "y0 = 0.5*np.sin(np.linspace(0,np.pi*4,100))\n",
    "\n",
    "obj2 = Objective(objective_functions=objective_functions, lambs=lambs, y0=y0)"
   ]
  },
  {
   "cell_type": "code",
   "execution_count": 26,
   "id": "03cc778f-61b0-4a42-a311-a92f0547a678",
   "metadata": {},
   "outputs": [
    {
     "name": "stdout",
     "output_type": "stream",
     "text": [
      "Optimization terminated successfully.\n",
      "         Current function value: 216.522378\n",
      "         Iterations: 437455\n",
      "         Function evaluations: 467065\n"
     ]
    },
    {
     "data": {
      "text/plain": [
       " final_simplex: (array([[ 1.38030970e-01,  1.35442332e-01,  1.33093248e-01, ...,\n",
       "         1.23945554e-03,  5.72808471e-04, -7.61819036e-15],\n",
       "       [ 1.38032875e-01,  1.35455144e-01,  1.33104513e-01, ...,\n",
       "         1.23287286e-03,  5.57771782e-04, -7.61838221e-15],\n",
       "       [ 1.38033270e-01,  1.35455310e-01,  1.33101752e-01, ...,\n",
       "         1.23912251e-03,  5.70273436e-04, -7.61820209e-15],\n",
       "       ...,\n",
       "       [ 1.38027064e-01,  1.35440712e-01,  1.33085136e-01, ...,\n",
       "         1.25270230e-03,  5.75975415e-04, -7.61752617e-15],\n",
       "       [ 1.38029839e-01,  1.35464250e-01,  1.33118063e-01, ...,\n",
       "         1.24183536e-03,  5.70843450e-04, -7.61873141e-15],\n",
       "       [ 1.38035898e-01,  1.35462396e-01,  1.33098789e-01, ...,\n",
       "         1.24450642e-03,  5.68020439e-04, -7.61825641e-15]]), array([216.52237775, 216.52237968, 216.52238034, 216.52238346,\n",
       "       216.52238418, 216.52238679, 216.52238889, 216.52239027,\n",
       "       216.52239184, 216.52239185, 216.52239332, 216.52239395,\n",
       "       216.52239424, 216.52240384, 216.52241077, 216.52241902,\n",
       "       216.52242042, 216.52242067, 216.5224208 , 216.52242094,\n",
       "       216.52242144, 216.52242148, 216.52242294, 216.5224243 ,\n",
       "       216.52242452, 216.52242864, 216.52242962, 216.52243134,\n",
       "       216.52243145, 216.52243189, 216.52243293, 216.52243346,\n",
       "       216.52243422, 216.52243443, 216.52243461, 216.52243492,\n",
       "       216.52243545, 216.5224357 , 216.52243583, 216.52243602,\n",
       "       216.52243612, 216.52243727, 216.5224377 , 216.52243805,\n",
       "       216.52243807, 216.52243812, 216.52243821, 216.52243862,\n",
       "       216.52243983, 216.52244053, 216.52244316, 216.52244351,\n",
       "       216.52244429, 216.52244433, 216.52244492, 216.52244513,\n",
       "       216.52244569, 216.52244623, 216.52244771, 216.52244773,\n",
       "       216.52244796, 216.52244818, 216.52244927, 216.52244986,\n",
       "       216.52245071, 216.5224509 , 216.52245097, 216.52245346,\n",
       "       216.52245346, 216.52245389, 216.52245399, 216.52245471,\n",
       "       216.52245484, 216.52245528, 216.52245546, 216.52245587,\n",
       "       216.52245602, 216.52245852, 216.52245893, 216.52245938,\n",
       "       216.5224599 , 216.5224604 , 216.52246118, 216.52246132,\n",
       "       216.52246192, 216.52246202, 216.52246236, 216.52246247,\n",
       "       216.52246301, 216.52246343, 216.5224644 , 216.52246654,\n",
       "       216.52246824, 216.52246968, 216.52247017, 216.52247032,\n",
       "       216.52247034, 216.52247201, 216.52247388, 216.52247607,\n",
       "       216.52247721]))\n",
       "           fun: 216.5223777544419\n",
       "       message: 'Optimization terminated successfully.'\n",
       "          nfev: 467065\n",
       "           nit: 437455\n",
       "        status: 0\n",
       "       success: True\n",
       "             x: array([ 1.38030970e-01,  1.35442332e-01,  1.33093248e-01,  1.30863100e-01,\n",
       "        1.28513843e-01,  1.25989348e-01,  1.23519606e-01,  1.21232744e-01,\n",
       "        1.19124018e-01,  1.17149714e-01,  1.14936161e-01,  1.12762935e-01,\n",
       "        1.10570519e-01,  1.08412810e-01,  1.06095278e-01,  1.03798572e-01,\n",
       "        1.01547537e-01,  9.91593296e-02,  9.65276528e-02,  9.38838474e-02,\n",
       "        9.14076653e-02,  8.87474617e-02,  8.60722172e-02,  8.37488321e-02,\n",
       "        8.12413539e-02,  7.90425759e-02,  7.72917429e-02,  7.55947494e-02,\n",
       "        7.37312852e-02,  7.18855519e-02,  7.01948171e-02,  6.83468649e-02,\n",
       "        6.66293732e-02,  6.49030852e-02,  6.31003044e-02,  6.12838842e-02,\n",
       "        5.95803552e-02,  5.79403659e-02,  5.62410694e-02,  5.42862944e-02,\n",
       "        5.21904749e-02,  5.00960370e-02,  4.81027234e-02,  4.62254012e-02,\n",
       "        4.44450055e-02,  4.25331543e-02,  4.07953898e-02,  3.90567074e-02,\n",
       "        3.72981829e-02,  3.53528716e-02,  3.40277583e-02,  3.28934958e-02,\n",
       "        3.20123252e-02,  3.10207955e-02,  3.02152302e-02,  2.91593386e-02,\n",
       "        2.81137772e-02,  2.71489263e-02,  2.60020752e-02,  2.49198831e-02,\n",
       "        2.39799108e-02,  2.28415669e-02,  2.18733018e-02,  2.06662761e-02,\n",
       "        1.95427749e-02,  1.84671202e-02,  1.74742039e-02,  1.63668362e-02,\n",
       "        1.52561421e-02,  1.40358384e-02,  1.29719515e-02,  1.18463283e-02,\n",
       "        1.08074236e-02,  9.85548822e-03,  8.92385113e-03,  8.48549870e-03,\n",
       "        8.22767981e-03,  7.87470012e-03,  7.50919878e-03,  7.25824543e-03,\n",
       "        7.17806808e-03,  6.74252850e-03,  6.49739651e-03,  6.40591210e-03,\n",
       "        6.15606167e-03,  5.96359164e-03,  5.68885295e-03,  5.40015244e-03,\n",
       "        5.15742611e-03,  4.84126498e-03,  4.39215890e-03,  3.84486936e-03,\n",
       "        3.39844170e-03,  3.05948528e-03,  2.70997504e-03,  2.24089637e-03,\n",
       "        1.83231322e-03,  1.23945554e-03,  5.72808471e-04, -7.61819036e-15])"
      ]
     },
     "execution_count": 26,
     "metadata": {},
     "output_type": "execute_result"
    }
   ],
   "source": [
    "ret2 = obj2.solve(options=options)\n",
    "ret2"
   ]
  },
  {
   "cell_type": "code",
   "execution_count": 27,
   "id": "6ffdc346-cecb-4020-b5c8-dd3ac9e1ffb1",
   "metadata": {},
   "outputs": [
    {
     "data": {
      "image/png": "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",
      "text/plain": [
       "<Figure size 432x288 with 1 Axes>"
      ]
     },
     "metadata": {
      "needs_background": "light"
     },
     "output_type": "display_data"
    }
   ],
   "source": [
    "fig, ax = plt.subplots()\n",
    "ax.plot(obj2.xs, ret2.x)\n",
    "\n",
    "plt.show()"
   ]
  },
  {
   "cell_type": "code",
   "execution_count": 28,
   "id": "aff39f15-0635-4222-9915-419b68c0ff0d",
   "metadata": {},
   "outputs": [
    {
     "name": "stderr",
     "output_type": "stream",
     "text": [
      "c:\\Users\\jbran\\anaconda3\\envs\\ring_trap\\lib\\site-packages\\scipy\\integrate\\_ivp\\base.py:20: ComplexWarning: Casting complex values to real discards the imaginary part\n",
      "  return np.asarray(fun(t, y), dtype=dtype)\n"
     ]
    },
    {
     "data": {
      "text/plain": [
       "array([1.32919961e+01, 3.31444394e+01, 1.59596266e+00, 7.02743195e+00,\n",
       "       7.75105224e-04])"
      ]
     },
     "execution_count": 28,
     "metadata": {},
     "output_type": "execute_result"
    }
   ],
   "source": [
    "obj2.compute_objective_vals()"
   ]
  },
  {
   "cell_type": "code",
   "execution_count": 10,
   "id": "4ed3dc92-2d22-494b-81ed-44bea17c3bb2",
   "metadata": {},
   "outputs": [],
   "source": [
    "from ring_trap_nm.nelder_mead.HyperParamsOpt import HyperParamsOptimizer\n",
    "\n",
    "hyp_optimizer = HyperParamsOptimizer(objective=obj2)"
   ]
  },
  {
   "cell_type": "code",
   "execution_count": 11,
   "id": "daf03db3",
   "metadata": {},
   "outputs": [
    {
     "name": "stdout",
     "output_type": "stream",
     "text": [
      "Optimization terminated successfully.\n",
      "         Current function value: 111.875513\n",
      "         Iterations: 10883\n",
      "         Function evaluations: 14316\n"
     ]
    },
    {
     "ename": "KeyboardInterrupt",
     "evalue": "",
     "output_type": "error",
     "traceback": [
      "\u001b[1;31m---------------------------------------------------------------------------\u001b[0m",
      "\u001b[1;31mKeyboardInterrupt\u001b[0m                         Traceback (most recent call last)",
      "\u001b[1;32mc:\\Users\\jbran\\WS\\quantum\\ring_trap_nm\\Experiment-min_energy-fixed_momentum.ipynb Cell 13\u001b[0m in \u001b[0;36m<cell line: 1>\u001b[1;34m()\u001b[0m\n\u001b[1;32m----> <a href='vscode-notebook-cell:/c%3A/Users/jbran/WS/quantum/ring_trap_nm/Experiment-min_energy-fixed_momentum.ipynb#ch0000012?line=0'>1</a>\u001b[0m res \u001b[39m=\u001b[39m hyp_optimizer\u001b[39m.\u001b[39;49msolve()\n\u001b[0;32m      <a href='vscode-notebook-cell:/c%3A/Users/jbran/WS/quantum/ring_trap_nm/Experiment-min_energy-fixed_momentum.ipynb#ch0000012?line=1'>2</a>\u001b[0m res\n",
      "File \u001b[1;32mc:\\users\\jbran\\ws\\quantum\\ring_trap_nm\\src\\ring_trap_nm\\nelder_mead\\HyperParamsOpt.py:27\u001b[0m, in \u001b[0;36mHyperParamsOptimizer.solve\u001b[1;34m(self, method, options, **kwargs)\u001b[0m\n\u001b[0;32m     22\u001b[0m \u001b[39mif\u001b[39;00m options \u001b[39mis\u001b[39;00m \u001b[39mNone\u001b[39;00m:\n\u001b[0;32m     23\u001b[0m     options \u001b[39m=\u001b[39m {\n\u001b[0;32m     24\u001b[0m         \u001b[39m\"\u001b[39m\u001b[39mmaxiter\u001b[39m\u001b[39m\"\u001b[39m: \u001b[39mint\u001b[39m(\u001b[39m1e5\u001b[39m),\n\u001b[0;32m     25\u001b[0m         \u001b[39m\"\u001b[39m\u001b[39mdisp\u001b[39m\u001b[39m\"\u001b[39m: \u001b[39mTrue\u001b[39;00m\n\u001b[0;32m     26\u001b[0m     }\n\u001b[1;32m---> 27\u001b[0m \u001b[39mreturn\u001b[39;00m minimize(fun\u001b[39m=\u001b[39m\u001b[39mself\u001b[39m\u001b[39m.\u001b[39mcompute_objective, x0\u001b[39m=\u001b[39m\u001b[39mself\u001b[39m\u001b[39m.\u001b[39mlambs_0, method\u001b[39m=\u001b[39mmethod, options\u001b[39m=\u001b[39moptions, \u001b[39m*\u001b[39m\u001b[39m*\u001b[39mkwargs)\n",
      "File \u001b[1;32mc:\\Users\\jbran\\anaconda3\\envs\\ring_trap\\lib\\site-packages\\scipy\\optimize\\_minimize.py:611\u001b[0m, in \u001b[0;36mminimize\u001b[1;34m(fun, x0, args, method, jac, hess, hessp, bounds, constraints, tol, callback, options)\u001b[0m\n\u001b[0;32m    608\u001b[0m     constraints \u001b[39m=\u001b[39m standardize_constraints(constraints, x0, meth)\n\u001b[0;32m    610\u001b[0m \u001b[39mif\u001b[39;00m meth \u001b[39m==\u001b[39m \u001b[39m'\u001b[39m\u001b[39mnelder-mead\u001b[39m\u001b[39m'\u001b[39m:\n\u001b[1;32m--> 611\u001b[0m     \u001b[39mreturn\u001b[39;00m _minimize_neldermead(fun, x0, args, callback, bounds\u001b[39m=\u001b[39mbounds,\n\u001b[0;32m    612\u001b[0m                                 \u001b[39m*\u001b[39m\u001b[39m*\u001b[39moptions)\n\u001b[0;32m    613\u001b[0m \u001b[39melif\u001b[39;00m meth \u001b[39m==\u001b[39m \u001b[39m'\u001b[39m\u001b[39mpowell\u001b[39m\u001b[39m'\u001b[39m:\n\u001b[0;32m    614\u001b[0m     \u001b[39mreturn\u001b[39;00m _minimize_powell(fun, x0, args, callback, bounds, \u001b[39m*\u001b[39m\u001b[39m*\u001b[39moptions)\n",
      "File \u001b[1;32mc:\\Users\\jbran\\anaconda3\\envs\\ring_trap\\lib\\site-packages\\scipy\\optimize\\optimize.py:750\u001b[0m, in \u001b[0;36m_minimize_neldermead\u001b[1;34m(func, x0, args, callback, maxiter, maxfev, disp, return_all, initial_simplex, xatol, fatol, adaptive, bounds, **unknown_options)\u001b[0m\n\u001b[0;32m    747\u001b[0m fsim \u001b[39m=\u001b[39m np\u001b[39m.\u001b[39mempty((N \u001b[39m+\u001b[39m \u001b[39m1\u001b[39m,), \u001b[39mfloat\u001b[39m)\n\u001b[0;32m    749\u001b[0m \u001b[39mfor\u001b[39;00m k \u001b[39min\u001b[39;00m \u001b[39mrange\u001b[39m(N \u001b[39m+\u001b[39m \u001b[39m1\u001b[39m):\n\u001b[1;32m--> 750\u001b[0m     fsim[k] \u001b[39m=\u001b[39m func(sim[k])\n\u001b[0;32m    752\u001b[0m ind \u001b[39m=\u001b[39m np\u001b[39m.\u001b[39margsort(fsim)\n\u001b[0;32m    753\u001b[0m fsim \u001b[39m=\u001b[39m np\u001b[39m.\u001b[39mtake(fsim, ind, \u001b[39m0\u001b[39m)\n",
      "File \u001b[1;32mc:\\Users\\jbran\\anaconda3\\envs\\ring_trap\\lib\\site-packages\\scipy\\optimize\\optimize.py:464\u001b[0m, in \u001b[0;36m_wrap_function.<locals>.function_wrapper\u001b[1;34m(x, *wrapper_args)\u001b[0m\n\u001b[0;32m    462\u001b[0m \u001b[39mdef\u001b[39;00m \u001b[39mfunction_wrapper\u001b[39m(x, \u001b[39m*\u001b[39mwrapper_args):\n\u001b[0;32m    463\u001b[0m     ncalls[\u001b[39m0\u001b[39m] \u001b[39m+\u001b[39m\u001b[39m=\u001b[39m \u001b[39m1\u001b[39m\n\u001b[1;32m--> 464\u001b[0m     \u001b[39mreturn\u001b[39;00m function(np\u001b[39m.\u001b[39;49mcopy(x), \u001b[39m*\u001b[39;49m(wrapper_args \u001b[39m+\u001b[39;49m args))\n",
      "File \u001b[1;32mc:\\users\\jbran\\ws\\quantum\\ring_trap_nm\\src\\ring_trap_nm\\nelder_mead\\HyperParamsOpt.py:16\u001b[0m, in \u001b[0;36mHyperParamsOptimizer.compute_objective\u001b[1;34m(self, lambs, **kwargs)\u001b[0m\n\u001b[0;32m     13\u001b[0m \u001b[39mself\u001b[39m\u001b[39m.\u001b[39mobjective\u001b[39m.\u001b[39mlambs \u001b[39m=\u001b[39m lambs\n\u001b[0;32m     15\u001b[0m \u001b[39m# solve\u001b[39;00m\n\u001b[1;32m---> 16\u001b[0m res \u001b[39m=\u001b[39m \u001b[39mself\u001b[39m\u001b[39m.\u001b[39mobjective\u001b[39m.\u001b[39msolve(\u001b[39m*\u001b[39m\u001b[39m*\u001b[39mkwargs)\n\u001b[0;32m     18\u001b[0m \u001b[39m# compute fitness\u001b[39;00m\n\u001b[0;32m     19\u001b[0m \u001b[39mreturn\u001b[39;00m \u001b[39mself\u001b[39m\u001b[39m.\u001b[39mobjective\u001b[39m.\u001b[39mcompute_objective(res\u001b[39m.\u001b[39mx)\n",
      "File \u001b[1;32mc:\\users\\jbran\\ws\\quantum\\ring_trap_nm\\src\\ring_trap_nm\\nelder_mead\\Objective.py:110\u001b[0m, in \u001b[0;36mObjective.solve\u001b[1;34m(self, method, options, **kwargs)\u001b[0m\n\u001b[0;32m    105\u001b[0m \u001b[39mif\u001b[39;00m options \u001b[39mis\u001b[39;00m \u001b[39mNone\u001b[39;00m:\n\u001b[0;32m    106\u001b[0m     options \u001b[39m=\u001b[39m {\n\u001b[0;32m    107\u001b[0m         \u001b[39m\"\u001b[39m\u001b[39mmaxiter\u001b[39m\u001b[39m\"\u001b[39m: \u001b[39mint\u001b[39m(\u001b[39m1e5\u001b[39m),\n\u001b[0;32m    108\u001b[0m         \u001b[39m\"\u001b[39m\u001b[39mdisp\u001b[39m\u001b[39m\"\u001b[39m: \u001b[39mTrue\u001b[39;00m\n\u001b[0;32m    109\u001b[0m     }\n\u001b[1;32m--> 110\u001b[0m \u001b[39mreturn\u001b[39;00m minimize(fun\u001b[39m=\u001b[39m\u001b[39mself\u001b[39m\u001b[39m.\u001b[39mcompute_objective, x0\u001b[39m=\u001b[39m\u001b[39mself\u001b[39m\u001b[39m.\u001b[39my0, method\u001b[39m=\u001b[39mmethod, options\u001b[39m=\u001b[39moptions, \u001b[39m*\u001b[39m\u001b[39m*\u001b[39mkwargs)\n",
      "File \u001b[1;32mc:\\Users\\jbran\\anaconda3\\envs\\ring_trap\\lib\\site-packages\\scipy\\optimize\\_minimize.py:611\u001b[0m, in \u001b[0;36mminimize\u001b[1;34m(fun, x0, args, method, jac, hess, hessp, bounds, constraints, tol, callback, options)\u001b[0m\n\u001b[0;32m    608\u001b[0m     constraints \u001b[39m=\u001b[39m standardize_constraints(constraints, x0, meth)\n\u001b[0;32m    610\u001b[0m \u001b[39mif\u001b[39;00m meth \u001b[39m==\u001b[39m \u001b[39m'\u001b[39m\u001b[39mnelder-mead\u001b[39m\u001b[39m'\u001b[39m:\n\u001b[1;32m--> 611\u001b[0m     \u001b[39mreturn\u001b[39;00m _minimize_neldermead(fun, x0, args, callback, bounds\u001b[39m=\u001b[39mbounds,\n\u001b[0;32m    612\u001b[0m                                 \u001b[39m*\u001b[39m\u001b[39m*\u001b[39moptions)\n\u001b[0;32m    613\u001b[0m \u001b[39melif\u001b[39;00m meth \u001b[39m==\u001b[39m \u001b[39m'\u001b[39m\u001b[39mpowell\u001b[39m\u001b[39m'\u001b[39m:\n\u001b[0;32m    614\u001b[0m     \u001b[39mreturn\u001b[39;00m _minimize_powell(fun, x0, args, callback, bounds, \u001b[39m*\u001b[39m\u001b[39m*\u001b[39moptions)\n",
      "File \u001b[1;32mc:\\Users\\jbran\\anaconda3\\envs\\ring_trap\\lib\\site-packages\\scipy\\optimize\\optimize.py:805\u001b[0m, in \u001b[0;36m_minimize_neldermead\u001b[1;34m(func, x0, args, callback, maxiter, maxfev, disp, return_all, initial_simplex, xatol, fatol, adaptive, bounds, **unknown_options)\u001b[0m\n\u001b[0;32m    803\u001b[0m \u001b[39mif\u001b[39;00m bounds \u001b[39mis\u001b[39;00m \u001b[39mnot\u001b[39;00m \u001b[39mNone\u001b[39;00m:\n\u001b[0;32m    804\u001b[0m     xcc \u001b[39m=\u001b[39m np\u001b[39m.\u001b[39mclip(xcc, lower_bound, upper_bound)\n\u001b[1;32m--> 805\u001b[0m fxcc \u001b[39m=\u001b[39m func(xcc)\n\u001b[0;32m    807\u001b[0m \u001b[39mif\u001b[39;00m fxcc \u001b[39m<\u001b[39m fsim[\u001b[39m-\u001b[39m\u001b[39m1\u001b[39m]:\n\u001b[0;32m    808\u001b[0m     sim[\u001b[39m-\u001b[39m\u001b[39m1\u001b[39m] \u001b[39m=\u001b[39m xcc\n",
      "File \u001b[1;32mc:\\Users\\jbran\\anaconda3\\envs\\ring_trap\\lib\\site-packages\\scipy\\optimize\\optimize.py:464\u001b[0m, in \u001b[0;36m_wrap_function.<locals>.function_wrapper\u001b[1;34m(x, *wrapper_args)\u001b[0m\n\u001b[0;32m    462\u001b[0m \u001b[39mdef\u001b[39;00m \u001b[39mfunction_wrapper\u001b[39m(x, \u001b[39m*\u001b[39mwrapper_args):\n\u001b[0;32m    463\u001b[0m     ncalls[\u001b[39m0\u001b[39m] \u001b[39m+\u001b[39m\u001b[39m=\u001b[39m \u001b[39m1\u001b[39m\n\u001b[1;32m--> 464\u001b[0m     \u001b[39mreturn\u001b[39;00m function(np\u001b[39m.\u001b[39;49mcopy(x), \u001b[39m*\u001b[39;49m(wrapper_args \u001b[39m+\u001b[39;49m args))\n",
      "File \u001b[1;32mc:\\users\\jbran\\ws\\quantum\\ring_trap_nm\\src\\ring_trap_nm\\nelder_mead\\Objective.py:98\u001b[0m, in \u001b[0;36mObjective.compute_objective\u001b[1;34m(self, V)\u001b[0m\n\u001b[0;32m     95\u001b[0m \u001b[39mself\u001b[39m\u001b[39m.\u001b[39mV0 \u001b[39m=\u001b[39m V\n\u001b[0;32m     97\u001b[0m \u001b[39m# get objective values\u001b[39;00m\n\u001b[1;32m---> 98\u001b[0m objective_vals \u001b[39m=\u001b[39m \u001b[39mself\u001b[39;49m\u001b[39m.\u001b[39;49mcompute_objective_vals()\n\u001b[0;32m    100\u001b[0m \u001b[39m# weight and return\u001b[39;00m\n\u001b[0;32m    101\u001b[0m \u001b[39mreturn\u001b[39;00m \u001b[39mself\u001b[39m\u001b[39m.\u001b[39mlambs\u001b[39m.\u001b[39mdot(objective_vals)\n",
      "File \u001b[1;32mc:\\users\\jbran\\ws\\quantum\\ring_trap_nm\\src\\ring_trap_nm\\nelder_mead\\Objective.py:71\u001b[0m, in \u001b[0;36mObjective.compute_objective_vals\u001b[1;34m(self)\u001b[0m\n\u001b[0;32m     69\u001b[0m \u001b[39mdef\u001b[39;00m \u001b[39mcompute_objective_vals\u001b[39m(\u001b[39mself\u001b[39m):\n\u001b[0;32m     70\u001b[0m     \u001b[39m# evolve state\u001b[39;00m\n\u001b[1;32m---> 71\u001b[0m     res \u001b[39m=\u001b[39m \u001b[39mself\u001b[39;49m\u001b[39m.\u001b[39;49mevolve(\u001b[39mself\u001b[39;49m\u001b[39m.\u001b[39;49my0, \u001b[39mself\u001b[39;49m\u001b[39m.\u001b[39;49mtf)\n\u001b[0;32m     72\u001b[0m     ts, ys \u001b[39m=\u001b[39m res\u001b[39m.\u001b[39mt, res\u001b[39m.\u001b[39my\n\u001b[0;32m     74\u001b[0m     \u001b[39m# get final state\u001b[39;00m\n",
      "File \u001b[1;32mc:\\users\\jbran\\ws\\quantum\\ring_trap_nm\\src\\ring_trap_nm\\schrodinger\\Schrodinger1D.py:139\u001b[0m, in \u001b[0;36mSchrodinger1D.evolve\u001b[1;34m(self, y0, tf, **kwargs)\u001b[0m\n\u001b[0;32m    137\u001b[0m \u001b[39mdef\u001b[39;00m \u001b[39mevolve\u001b[39m(\u001b[39mself\u001b[39m, y0, tf, \u001b[39m*\u001b[39m\u001b[39m*\u001b[39mkwargs):\n\u001b[0;32m    138\u001b[0m     \u001b[39m\"\"\"evolve state `y0` to time `tf`\"\"\"\u001b[39;00m\n\u001b[1;32m--> 139\u001b[0m     \u001b[39mreturn\u001b[39;00m solve_ivp(fun\u001b[39m=\u001b[39m\u001b[39mself\u001b[39m\u001b[39m.\u001b[39mget_dydt, t_span\u001b[39m=\u001b[39m(\u001b[39m0\u001b[39m,tf), y0\u001b[39m=\u001b[39my0, \u001b[39m*\u001b[39m\u001b[39m*\u001b[39mkwargs)\n",
      "File \u001b[1;32mc:\\Users\\jbran\\anaconda3\\envs\\ring_trap\\lib\\site-packages\\scipy\\integrate\\_ivp\\ivp.py:576\u001b[0m, in \u001b[0;36msolve_ivp\u001b[1;34m(fun, t_span, y0, method, t_eval, dense_output, events, vectorized, args, **options)\u001b[0m\n\u001b[0;32m    574\u001b[0m status \u001b[39m=\u001b[39m \u001b[39mNone\u001b[39;00m\n\u001b[0;32m    575\u001b[0m \u001b[39mwhile\u001b[39;00m status \u001b[39mis\u001b[39;00m \u001b[39mNone\u001b[39;00m:\n\u001b[1;32m--> 576\u001b[0m     message \u001b[39m=\u001b[39m solver\u001b[39m.\u001b[39;49mstep()\n\u001b[0;32m    578\u001b[0m     \u001b[39mif\u001b[39;00m solver\u001b[39m.\u001b[39mstatus \u001b[39m==\u001b[39m \u001b[39m'\u001b[39m\u001b[39mfinished\u001b[39m\u001b[39m'\u001b[39m:\n\u001b[0;32m    579\u001b[0m         status \u001b[39m=\u001b[39m \u001b[39m0\u001b[39m\n",
      "File \u001b[1;32mc:\\Users\\jbran\\anaconda3\\envs\\ring_trap\\lib\\site-packages\\scipy\\integrate\\_ivp\\base.py:181\u001b[0m, in \u001b[0;36mOdeSolver.step\u001b[1;34m(self)\u001b[0m\n\u001b[0;32m    179\u001b[0m \u001b[39melse\u001b[39;00m:\n\u001b[0;32m    180\u001b[0m     t \u001b[39m=\u001b[39m \u001b[39mself\u001b[39m\u001b[39m.\u001b[39mt\n\u001b[1;32m--> 181\u001b[0m     success, message \u001b[39m=\u001b[39m \u001b[39mself\u001b[39;49m\u001b[39m.\u001b[39;49m_step_impl()\n\u001b[0;32m    183\u001b[0m     \u001b[39mif\u001b[39;00m \u001b[39mnot\u001b[39;00m success:\n\u001b[0;32m    184\u001b[0m         \u001b[39mself\u001b[39m\u001b[39m.\u001b[39mstatus \u001b[39m=\u001b[39m \u001b[39m'\u001b[39m\u001b[39mfailed\u001b[39m\u001b[39m'\u001b[39m\n",
      "File \u001b[1;32mc:\\Users\\jbran\\anaconda3\\envs\\ring_trap\\lib\\site-packages\\scipy\\integrate\\_ivp\\rk.py:144\u001b[0m, in \u001b[0;36mRungeKutta._step_impl\u001b[1;34m(self)\u001b[0m\n\u001b[0;32m    141\u001b[0m h \u001b[39m=\u001b[39m t_new \u001b[39m-\u001b[39m t\n\u001b[0;32m    142\u001b[0m h_abs \u001b[39m=\u001b[39m np\u001b[39m.\u001b[39mabs(h)\n\u001b[1;32m--> 144\u001b[0m y_new, f_new \u001b[39m=\u001b[39m rk_step(\u001b[39mself\u001b[39;49m\u001b[39m.\u001b[39;49mfun, t, y, \u001b[39mself\u001b[39;49m\u001b[39m.\u001b[39;49mf, h, \u001b[39mself\u001b[39;49m\u001b[39m.\u001b[39;49mA,\n\u001b[0;32m    145\u001b[0m                        \u001b[39mself\u001b[39;49m\u001b[39m.\u001b[39;49mB, \u001b[39mself\u001b[39;49m\u001b[39m.\u001b[39;49mC, \u001b[39mself\u001b[39;49m\u001b[39m.\u001b[39;49mK)\n\u001b[0;32m    146\u001b[0m scale \u001b[39m=\u001b[39m atol \u001b[39m+\u001b[39m np\u001b[39m.\u001b[39mmaximum(np\u001b[39m.\u001b[39mabs(y), np\u001b[39m.\u001b[39mabs(y_new)) \u001b[39m*\u001b[39m rtol\n\u001b[0;32m    147\u001b[0m error_norm \u001b[39m=\u001b[39m \u001b[39mself\u001b[39m\u001b[39m.\u001b[39m_estimate_error_norm(\u001b[39mself\u001b[39m\u001b[39m.\u001b[39mK, h, scale)\n",
      "File \u001b[1;32mc:\\Users\\jbran\\anaconda3\\envs\\ring_trap\\lib\\site-packages\\scipy\\integrate\\_ivp\\rk.py:63\u001b[0m, in \u001b[0;36mrk_step\u001b[1;34m(fun, t, y, f, h, A, B, C, K)\u001b[0m\n\u001b[0;32m     61\u001b[0m K[\u001b[39m0\u001b[39m] \u001b[39m=\u001b[39m f\n\u001b[0;32m     62\u001b[0m \u001b[39mfor\u001b[39;00m s, (a, c) \u001b[39min\u001b[39;00m \u001b[39menumerate\u001b[39m(\u001b[39mzip\u001b[39m(A[\u001b[39m1\u001b[39m:], C[\u001b[39m1\u001b[39m:]), start\u001b[39m=\u001b[39m\u001b[39m1\u001b[39m):\n\u001b[1;32m---> 63\u001b[0m     dy \u001b[39m=\u001b[39m np\u001b[39m.\u001b[39;49mdot(K[:s]\u001b[39m.\u001b[39;49mT, a[:s]) \u001b[39m*\u001b[39m h\n\u001b[0;32m     64\u001b[0m     K[s] \u001b[39m=\u001b[39m fun(t \u001b[39m+\u001b[39m c \u001b[39m*\u001b[39m h, y \u001b[39m+\u001b[39m dy)\n\u001b[0;32m     66\u001b[0m y_new \u001b[39m=\u001b[39m y \u001b[39m+\u001b[39m h \u001b[39m*\u001b[39m np\u001b[39m.\u001b[39mdot(K[:\u001b[39m-\u001b[39m\u001b[39m1\u001b[39m]\u001b[39m.\u001b[39mT, B)\n",
      "File \u001b[1;32m<__array_function__ internals>:180\u001b[0m, in \u001b[0;36mdot\u001b[1;34m(*args, **kwargs)\u001b[0m\n",
      "\u001b[1;31mKeyboardInterrupt\u001b[0m: "
     ]
    }
   ],
   "source": [
    "res = hyp_optimizer.solve()\n",
    "res"
   ]
  },
  {
   "cell_type": "code",
   "execution_count": 5,
   "id": "f746c7fb",
   "metadata": {},
   "outputs": [
    {
     "ename": "NameError",
     "evalue": "name 'res' is not defined",
     "output_type": "error",
     "traceback": [
      "\u001b[0;31m---------------------------------------------------------------------------\u001b[0m",
      "\u001b[0;31mNameError\u001b[0m                                 Traceback (most recent call last)",
      "Input \u001b[0;32mIn [5]\u001b[0m, in \u001b[0;36m<cell line: 5>\u001b[0;34m()\u001b[0m\n\u001b[1;32m      4\u001b[0m now \u001b[38;5;241m=\u001b[39m datetime\u001b[38;5;241m.\u001b[39mnow()\u001b[38;5;241m.\u001b[39mstrftime(\u001b[38;5;124m\"\u001b[39m\u001b[38;5;132;01m%d\u001b[39;00m\u001b[38;5;124m-\u001b[39m\u001b[38;5;124m%\u001b[39m\u001b[38;5;124mm-\u001b[39m\u001b[38;5;124m%\u001b[39m\u001b[38;5;124mY_\u001b[39m\u001b[38;5;124m%\u001b[39m\u001b[38;5;124mH-\u001b[39m\u001b[38;5;124m%\u001b[39m\u001b[38;5;124mM-\u001b[39m\u001b[38;5;124m%\u001b[39m\u001b[38;5;124mS\u001b[39m\u001b[38;5;124m\"\u001b[39m)\n\u001b[1;32m      5\u001b[0m \u001b[38;5;28;01mwith\u001b[39;00m \u001b[38;5;28mopen\u001b[39m(\u001b[38;5;124m'\u001b[39m\u001b[38;5;124mresults/hyper_opt_res-\u001b[39m\u001b[38;5;132;01m{now}\u001b[39;00m\u001b[38;5;124m'\u001b[39m, \u001b[38;5;124m'\u001b[39m\u001b[38;5;124mwb\u001b[39m\u001b[38;5;124m'\u001b[39m) \u001b[38;5;28;01mas\u001b[39;00m fa:\n\u001b[0;32m----> 6\u001b[0m     pickle\u001b[38;5;241m.\u001b[39mdump(\u001b[43mres\u001b[49m, fa)\n\u001b[1;32m      8\u001b[0m \u001b[38;5;28;01mwith\u001b[39;00m \u001b[38;5;28mopen\u001b[39m(\u001b[38;5;124m'\u001b[39m\u001b[38;5;124mresults/hyp_opt-\u001b[39m\u001b[38;5;132;01m{now}\u001b[39;00m\u001b[38;5;124m'\u001b[39m, \u001b[38;5;124m'\u001b[39m\u001b[38;5;124mwb\u001b[39m\u001b[38;5;124m'\u001b[39m) \u001b[38;5;28;01mas\u001b[39;00m fb:\n\u001b[1;32m      9\u001b[0m     pickle\u001b[38;5;241m.\u001b[39mdump(hyp_optimizer, fb)\n",
      "\u001b[0;31mNameError\u001b[0m: name 'res' is not defined"
     ]
    }
   ],
   "source": [
    "import pickle\n",
    "from datetime import datetime\n",
    "\n",
    "now = datetime.now().strftime(\"%d-%m-%Y_%H-%M-%S\")\n",
    "with open('results/hyper_opt_res-{now}', 'wb') as fa:\n",
    "    pickle.dump(res, fa)\n",
    "    \n",
    "with open('results/hyp_opt-{now}', 'wb') as fb:\n",
    "    pickle.dump(hyp_optimizer, fb)"
   ]
  },
  {
   "cell_type": "code",
   "execution_count": 4,
   "id": "1c1f2df5",
   "metadata": {},
   "outputs": [
    {
     "data": {
      "text/plain": [
       "1658983949.3134995"
      ]
     },
     "execution_count": 4,
     "metadata": {},
     "output_type": "execute_result"
    }
   ],
   "source": []
  },
  {
   "cell_type": "code",
   "execution_count": null,
   "id": "1d33c795",
   "metadata": {},
   "outputs": [],
   "source": []
  }
 ],
 "metadata": {
  "kernelspec": {
   "display_name": "Python 3 (ipykernel)",
   "language": "python",
   "name": "python3"
  },
  "language_info": {
   "codemirror_mode": {
    "name": "ipython",
    "version": 3
   },
   "file_extension": ".py",
   "mimetype": "text/x-python",
   "name": "python",
   "nbconvert_exporter": "python",
   "pygments_lexer": "ipython3",
   "version": "3.9.12"
  },
  "vscode": {
   "interpreter": {
    "hash": "63a8336d42f50b5a827670819e9cf17db558f990ef99450bb4526797c60fdda6"
   }
  }
 },
 "nbformat": 4,
 "nbformat_minor": 5
}
