{
 "cells": [
  {
   "cell_type": "code",
   "execution_count": 1,
   "metadata": {},
   "outputs": [],
   "source": [
    "import numpy as np, matplotlib.pyplot as plt\n",
    "from ring_trap_nm.nelder_mead.Objective import Objective\n",
    "from ring_trap_nm.nelder_mead.StochasticInitPotentialSearch import StochasticInitPotentialSearch"
   ]
  },
  {
   "cell_type": "markdown",
   "metadata": {},
   "source": [
    "# Min Energy with Fixed Momentum random search\n",
    "Here, we search the space of starting potentials uniformly."
   ]
  },
  {
   "cell_type": "code",
   "execution_count": null,
   "metadata": {},
   "outputs": [],
   "source": [
    "def generate_initial_simplex(dimensions=100):\n",
    "    \"\"\"\n",
    "    Uses ideas from [here](https://math.stackexchange.com/questions/2739915/radius-of-inscribed-sphere-of-n-simplex)\n",
    "    \"\"\"\n",
    "    verts = []\n",
    "    for i in range(dimensions):\n",
    "        tmp = np.zeros(dimensions)\n",
    "        tmp[i] = dimensions\n",
    "        verts.append(tmp)\n",
    "    verts.append(np.zeros(dimensions))\n",
    "    return verts"
   ]
  },
  {
   "cell_type": "code",
   "execution_count": null,
   "metadata": {},
   "outputs": [],
   "source": [
    "objective_functions = (\n",
    "    \"get_E_expectation\",\n",
    "    \"get_E_deviation\",\n",
    "    \"get_dist_p_expectation\",\n",
    "    \"get_p_deviation\",\n",
    "    \"get_V_smoothness\"\n",
    ")\n",
    "\n",
    "lambs = (\n",
    "    1.0,\n",
    "    1.0,\n",
    "    1.0,\n",
    "    1.0,\n",
    "    int(1e3)\n",
    ")\n",
    "\n",
    "options = {\n",
    "    \"maxiter\": int(1e6),\n",
    "    \"disp\": True,\n",
    "    \"adaptive\": True,\n",
    "    \"initial_simplex\": generate_initial_simplex()\n",
    "}\n",
    "\n",
    "\n",
    "obj = Objective(objective_functions=objective_functions, lambs=lambs)\n",
    "searcher = StochasticInitPotentialSearch(objective=obj, seed=2)"
   ]
  },
  {
   "cell_type": "code",
   "execution_count": null,
   "metadata": {},
   "outputs": [],
   "source": [
    "res = searcher.get_n_samples(n=100*2)\n",
    "res"
   ]
  },
  {
   "cell_type": "code",
   "execution_count": null,
   "metadata": {},
   "outputs": [],
   "source": [
    "import pickle\n",
    "from datetime import datetime\n",
    "now = datetime.now().strftime(\"%d-%m-%Y_%H-%M-%S\")\n",
    "\n",
    "with open(f'results/random-init-potential-{now}', 'wb') as f:\n",
    "    pickle.dump(res, f)"
   ]
  }
 ],
 "metadata": {
  "kernelspec": {
   "display_name": "Python 3.10.4 ('ring_trap')",
   "language": "python",
   "name": "python3"
  },
  "language_info": {
   "codemirror_mode": {
    "name": "ipython",
    "version": 3
   },
   "file_extension": ".py",
   "mimetype": "text/x-python",
   "name": "python",
   "nbconvert_exporter": "python",
   "pygments_lexer": "ipython3",
   "version": "3.10.4"
  },
  "orig_nbformat": 4,
  "vscode": {
   "interpreter": {
    "hash": "63a8336d42f50b5a827670819e9cf17db558f990ef99450bb4526797c60fdda6"
   }
  }
 },
 "nbformat": 4,
 "nbformat_minor": 2
}
