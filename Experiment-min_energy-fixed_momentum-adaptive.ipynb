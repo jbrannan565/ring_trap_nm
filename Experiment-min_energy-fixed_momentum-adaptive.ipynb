{
 "cells": [
  {
   "cell_type": "code",
   "execution_count": 1,
   "id": "507dc34c-1ccf-4366-a095-e8365890e09f",
   "metadata": {},
   "outputs": [],
   "source": [
    "import numpy as np, matplotlib.pyplot as plt\n",
    "from ring_trap_nm.nelder_mead.Objective import Objective"
   ]
  },
  {
   "cell_type": "markdown",
   "id": "b1bc4501-fbc0-4c60-9306-d37246e3d60c",
   "metadata": {
    "tags": []
   },
   "source": [
    "# Minimum Energy with Fixed Momentum"
   ]
  },
  {
   "cell_type": "code",
   "execution_count": 2,
   "id": "06a524c1-5059-4b68-91c1-9bfbb89dd3b5",
   "metadata": {},
   "outputs": [],
   "source": [
    "objective_functions = (\n",
    "    \"get_E_expectation\",\n",
    "    \"get_E_deviation\",\n",
    "    \"get_dist_p_expectation\",\n",
    "    \"get_p_deviation\",\n",
    "    \"get_V_smoothness\"\n",
    ")\n",
    "\n",
    "lambs = (\n",
    "    1.0,\n",
    "    5.0,\n",
    "    1.0,\n",
    "    5.0,\n",
    "    int(1e3)\n",
    ")\n",
    "\n",
    "options = {\n",
    "    \"maxiter\": int(1e6),\n",
    "    \"disp\": True,\n",
    "    \"adaptive\": True\n",
    "}\n",
    "\n",
    "obj = Objective(objective_functions=objective_functions, lambs=lambs)"
   ]
  },
  {
   "cell_type": "code",
   "execution_count": 3,
   "id": "d304c23d-d506-45c7-b782-d4304b4ef2c7",
   "metadata": {},
   "outputs": [
    {
     "name": "stderr",
     "output_type": "stream",
     "text": [
      "c:\\Users\\jbran\\anaconda3\\envs\\ring_trap\\lib\\site-packages\\scipy\\integrate\\_ivp\\base.py:20: ComplexWarning: Casting complex values to real discards the imaginary part\n",
      "  return np.asarray(fun(t, y), dtype=dtype)\n"
     ]
    },
    {
     "name": "stdout",
     "output_type": "stream",
     "text": [
      "Optimization terminated successfully.\n",
      "         Current function value: 6.283185\n",
      "         Iterations: 2122\n",
      "         Function evaluations: 4240\n"
     ]
    },
    {
     "data": {
      "text/plain": [
       " final_simplex: (array([[0.00000000e+00, 0.00000000e+00, 0.00000000e+00, ...,\n",
       "        0.00000000e+00, 0.00000000e+00, 0.00000000e+00],\n",
       "       [1.64228437e-06, 1.66354250e-06, 1.76312956e-06, ...,\n",
       "        1.74194366e-06, 1.65903948e-06, 1.65200251e-06],\n",
       "       [1.66354675e-06, 1.68918489e-06, 1.81526796e-06, ...,\n",
       "        1.79401017e-06, 1.68420823e-06, 1.67144627e-06],\n",
       "       ...,\n",
       "       [1.67598330e-06, 1.70307747e-06, 1.83762698e-06, ...,\n",
       "        1.83756594e-06, 1.69748295e-06, 1.67861789e-06],\n",
       "       [1.67599632e-06, 1.70160997e-06, 1.83859478e-06, ...,\n",
       "        1.83841811e-06, 1.69765507e-06, 1.67890028e-06],\n",
       "       [1.67529410e-06, 1.70163923e-06, 1.83801900e-06, ...,\n",
       "        1.83941458e-06, 1.69715858e-06, 1.67845779e-06]]), array([6.28318531, 6.2832629 , 6.28326299, 6.28326312, 6.28326318,\n",
       "       6.28326319, 6.2832632 , 6.28326323, 6.28326324, 6.28326325,\n",
       "       6.28326329, 6.2832633 , 6.2832633 , 6.28326334, 6.28326334,\n",
       "       6.28326335, 6.28326336, 6.28326337, 6.28326341, 6.28326349,\n",
       "       6.28326372, 6.28327742, 6.28327748, 6.28327853, 6.28327855,\n",
       "       6.28328129, 6.28328192, 6.28328224, 6.28328253, 6.28328301,\n",
       "       6.28328312, 6.28328321, 6.28328325, 6.28328331, 6.28328331,\n",
       "       6.2832834 , 6.28328344, 6.28328347, 6.28328348, 6.2832835 ,\n",
       "       6.28328356, 6.28328371, 6.28328372, 6.28328376, 6.2832838 ,\n",
       "       6.28328382, 6.28328382, 6.28328387, 6.28328388, 6.28328391,\n",
       "       6.28328392, 6.28328399, 6.283284  , 6.28328402, 6.28328404,\n",
       "       6.28328406, 6.28328408, 6.28328413, 6.28328415, 6.28328421,\n",
       "       6.28328424, 6.28328426, 6.2832843 , 6.28328433, 6.28328438,\n",
       "       6.28328438, 6.28328443, 6.28328447, 6.28328448, 6.28328448,\n",
       "       6.28328454, 6.28328454, 6.28328458, 6.28328459, 6.28328461,\n",
       "       6.28328468, 6.28328474, 6.28328476, 6.2832848 , 6.28328485,\n",
       "       6.28328488, 6.28328493, 6.283285  , 6.28328504, 6.28328506,\n",
       "       6.2832851 , 6.28328518, 6.28328519, 6.28328523, 6.28328523,\n",
       "       6.28328524, 6.28328525, 6.28328525, 6.28328527, 6.28328528,\n",
       "       6.28328528, 6.28328529, 6.28328529, 6.28328529, 6.2832853 ,\n",
       "       6.2832853 ]))\n",
       "           fun: 6.283185307179586\n",
       "       message: 'Optimization terminated successfully.'\n",
       "          nfev: 4240\n",
       "           nit: 2122\n",
       "        status: 0\n",
       "       success: True\n",
       "             x: array([0., 0., 0., 0., 0., 0., 0., 0., 0., 0., 0., 0., 0., 0., 0., 0., 0.,\n",
       "       0., 0., 0., 0., 0., 0., 0., 0., 0., 0., 0., 0., 0., 0., 0., 0., 0.,\n",
       "       0., 0., 0., 0., 0., 0., 0., 0., 0., 0., 0., 0., 0., 0., 0., 0., 0.,\n",
       "       0., 0., 0., 0., 0., 0., 0., 0., 0., 0., 0., 0., 0., 0., 0., 0., 0.,\n",
       "       0., 0., 0., 0., 0., 0., 0., 0., 0., 0., 0., 0., 0., 0., 0., 0., 0.,\n",
       "       0., 0., 0., 0., 0., 0., 0., 0., 0., 0., 0., 0., 0., 0., 0.])"
      ]
     },
     "execution_count": 3,
     "metadata": {},
     "output_type": "execute_result"
    }
   ],
   "source": [
    "ret = obj.solve(options=options)\n",
    "ret"
   ]
  },
  {
   "cell_type": "markdown",
   "id": "e9ef27a7-f578-42dc-9b5c-eee1cd4ac3c6",
   "metadata": {},
   "source": [
    "## Using a sin wave as the starting potential"
   ]
  },
  {
   "cell_type": "code",
   "execution_count": 18,
   "id": "f83e11bc-8c11-4ae4-9b14-c581f22f24ae",
   "metadata": {},
   "outputs": [],
   "source": [
    "y0 = 0.5*np.sin(np.linspace(0,np.pi*4,100))\n",
    "\n",
    "obj2 = Objective(objective_functions=objective_functions, lambs=lambs, y0=y0)"
   ]
  },
  {
   "cell_type": "code",
   "execution_count": 5,
   "id": "03cc778f-61b0-4a42-a311-a92f0547a678",
   "metadata": {},
   "outputs": [
    {
     "name": "stdout",
     "output_type": "stream",
     "text": [
      "Warning: Maximum number of iterations has been exceeded.\n"
     ]
    },
    {
     "data": {
      "text/plain": [
       " final_simplex: (array([[ 1.46792544e-01,  1.47031799e-01,  1.47304492e-01, ...,\n",
       "         6.61361913e-03,  3.28205681e-03, -7.64804881e-15],\n",
       "       [ 1.46795466e-01,  1.47039169e-01,  1.47274110e-01, ...,\n",
       "         6.62270906e-03,  3.30129785e-03, -7.64852730e-15],\n",
       "       [ 1.46805716e-01,  1.47022754e-01,  1.47321530e-01, ...,\n",
       "         6.63289478e-03,  3.30641194e-03, -7.64862252e-15],\n",
       "       ...,\n",
       "       [ 1.46785135e-01,  1.47006579e-01,  1.47272486e-01, ...,\n",
       "         6.59682184e-03,  3.31724934e-03, -7.64790020e-15],\n",
       "       [ 1.46790832e-01,  1.47017110e-01,  1.47301990e-01, ...,\n",
       "         6.63929877e-03,  3.30918398e-03, -7.64786532e-15],\n",
       "       [ 1.46800327e-01,  1.47051874e-01,  1.47280716e-01, ...,\n",
       "         6.64098062e-03,  3.34272824e-03, -7.64824727e-15]]), array([216.17469228, 216.17471793, 216.17476007, 216.17476066,\n",
       "       216.17477539, 216.17477909, 216.17478494, 216.17479015,\n",
       "       216.1747995 , 216.17480566, 216.17480685, 216.17481837,\n",
       "       216.17482783, 216.1748414 , 216.17484554, 216.1748544 ,\n",
       "       216.17487125, 216.17487346, 216.17487395, 216.17487701,\n",
       "       216.17488012, 216.17489087, 216.17489114, 216.17489239,\n",
       "       216.17489519, 216.17489882, 216.17489985, 216.17490338,\n",
       "       216.17490959, 216.17491039, 216.17491054, 216.1749115 ,\n",
       "       216.17491512, 216.17491514, 216.17492432, 216.17492433,\n",
       "       216.174929  , 216.17493196, 216.17493612, 216.17493755,\n",
       "       216.17493954, 216.17494073, 216.17494147, 216.1749465 ,\n",
       "       216.17494844, 216.17494847, 216.17495186, 216.174956  ,\n",
       "       216.17495651, 216.17495664, 216.17496004, 216.17496053,\n",
       "       216.17496053, 216.17496121, 216.17496331, 216.17497384,\n",
       "       216.17497409, 216.17497506, 216.17497609, 216.17497702,\n",
       "       216.1749772 , 216.17498376, 216.17498443, 216.1749845 ,\n",
       "       216.17498704, 216.17499299, 216.17499311, 216.17499727,\n",
       "       216.17500063, 216.17500287, 216.17500978, 216.17500992,\n",
       "       216.1750106 , 216.17501149, 216.17501219, 216.17501266,\n",
       "       216.17501317, 216.17501711, 216.17501913, 216.17501918,\n",
       "       216.17502166, 216.17502242, 216.17502341, 216.17502781,\n",
       "       216.17502853, 216.17502873, 216.1750316 , 216.17503236,\n",
       "       216.17503251, 216.1750397 , 216.1750409 , 216.17504455,\n",
       "       216.17505079, 216.17505435, 216.17505532, 216.17505744,\n",
       "       216.17506331, 216.17507284, 216.17507444, 216.17507505,\n",
       "       216.17507857]))\n",
       "           fun: 216.1746922754745\n",
       "       message: 'Maximum number of iterations has been exceeded.'\n",
       "          nfev: 1057702\n",
       "           nit: 1000000\n",
       "        status: 2\n",
       "       success: False\n",
       "             x: array([ 1.46792544e-01,  1.47031799e-01,  1.47304492e-01,  1.47551073e-01,\n",
       "        1.47888309e-01,  1.48092257e-01,  1.48294561e-01,  1.48544649e-01,\n",
       "        1.48586982e-01,  1.48751746e-01,  1.48820727e-01,  1.48905553e-01,\n",
       "        1.48951716e-01,  1.49022369e-01,  1.48984355e-01,  1.48919084e-01,\n",
       "        1.48923985e-01,  1.48861242e-01,  1.48738993e-01,  1.48663044e-01,\n",
       "        1.48521476e-01,  1.48369182e-01,  1.48229128e-01,  1.48172607e-01,\n",
       "        1.47985809e-01,  1.47785926e-01,  1.47362693e-01,  1.46925471e-01,\n",
       "        1.46430108e-01,  1.45945774e-01,  1.45426692e-01,  1.44927941e-01,\n",
       "        1.44443431e-01,  1.43842002e-01,  1.43281525e-01,  1.42638380e-01,\n",
       "        1.41938960e-01,  1.41210106e-01,  1.40430178e-01,  1.39614515e-01,\n",
       "        1.38771065e-01,  1.37813615e-01,  1.36830311e-01,  1.35882787e-01,\n",
       "        1.34883096e-01,  1.33840974e-01,  1.32734708e-01,  1.31694879e-01,\n",
       "        1.30636721e-01,  1.29396142e-01,  1.27937483e-01,  1.26235563e-01,\n",
       "        1.24440493e-01,  1.22650898e-01,  1.20845242e-01,  1.19021018e-01,\n",
       "        1.17173348e-01,  1.15264927e-01,  1.13293349e-01,  1.11368479e-01,\n",
       "        1.09335226e-01,  1.07236388e-01,  1.05123776e-01,  1.02953396e-01,\n",
       "        1.00693394e-01,  9.84207033e-02,  9.60589943e-02,  9.36671001e-02,\n",
       "        9.12730451e-02,  8.89041476e-02,  8.64959908e-02,  8.41238578e-02,\n",
       "        8.16823632e-02,  7.92101558e-02,  7.67097125e-02,  7.39431439e-02,\n",
       "        7.11558185e-02,  6.84163488e-02,  6.55873307e-02,  6.26843619e-02,\n",
       "        5.97855026e-02,  5.68909427e-02,  5.39428087e-02,  5.09227167e-02,\n",
       "        4.79096471e-02,  4.48804817e-02,  4.18789516e-02,  3.88204192e-02,\n",
       "        3.57575334e-02,  3.25740633e-02,  2.94025758e-02,  2.61570260e-02,\n",
       "        2.29640301e-02,  1.96991216e-02,  1.64318441e-02,  1.31723131e-02,\n",
       "        9.91988978e-03,  6.61361913e-03,  3.28205681e-03, -7.64804881e-15])"
      ]
     },
     "execution_count": 5,
     "metadata": {},
     "output_type": "execute_result"
    }
   ],
   "source": [
    "ret2 = obj2.solve(options=options)\n",
    "ret2"
   ]
  },
  {
   "cell_type": "code",
   "execution_count": 6,
   "id": "6ffdc346-cecb-4020-b5c8-dd3ac9e1ffb1",
   "metadata": {},
   "outputs": [
    {
     "data": {
      "image/png": "[encoded data removed]",
      "text/plain": [
       "<Figure size 432x288 with 1 Axes>"
      ]
     },
     "metadata": {
      "needs_background": "light"
     },
     "output_type": "display_data"
    }
   ],
   "source": [
    "fig, ax = plt.subplots()\n",
    "ax.plot(obj2.xs, ret2.x)\n",
    "\n",
    "plt.show()"
   ]
  },
  {
   "cell_type": "code",
   "execution_count": 19,
   "id": "fd76f41e",
   "metadata": {},
   "outputs": [
    {
     "data": {
      "text/plain": [
       "[<matplotlib.lines.Line2D at 0x1c4402c4070>]"
      ]
     },
     "execution_count": 19,
     "metadata": {},
     "output_type": "execute_result"
    },
    {
     "data": {
      "image/png": "[encoded data removed]",
      "text/plain": [
       "<Figure size 432x288 with 1 Axes>"
      ]
     },
     "metadata": {
      "needs_background": "light"
     },
     "output_type": "display_data"
    }
   ],
   "source": [
    "plt.plot(obj2.xs, y0)"
   ]
  },
  {
   "cell_type": "markdown",
   "id": "60e8277b",
   "metadata": {},
   "source": [
    "So, the alg did quite a lot compared to the cos init"
   ]
  },
  {
   "cell_type": "code",
   "execution_count": 7,
   "id": "aff39f15-0635-4222-9915-419b68c0ff0d",
   "metadata": {},
   "outputs": [
    {
     "name": "stderr",
     "output_type": "stream",
     "text": [
      "c:\\Users\\jbran\\anaconda3\\envs\\ring_trap\\lib\\site-packages\\scipy\\integrate\\_ivp\\base.py:20: ComplexWarning: Casting complex values to real discards the imaginary part\n",
      "  return np.asarray(fun(t, y), dtype=dtype)\n"
     ]
    },
    {
     "data": {
      "text/plain": [
       "array([1.40340055e+01, 3.28371321e+01, 1.59596266e+00, 7.02743195e+00,\n",
       "       1.22209160e-03])"
      ]
     },
     "execution_count": 7,
     "metadata": {},
     "output_type": "execute_result"
    }
   ],
   "source": [
    "obj2.compute_objective_vals()"
   ]
  },
  {
   "cell_type": "code",
   "execution_count": 8,
   "id": "74d6a425",
   "metadata": {},
   "outputs": [],
   "source": [
    "y0 = 0.5*np.cos(np.linspace(0,np.pi*4,100))\n",
    "\n",
    "obj3 = Objective(objective_functions=objective_functions, lambs=lambs, y0=y0)"
   ]
  },
  {
   "cell_type": "code",
   "execution_count": 9,
   "id": "586a5229",
   "metadata": {},
   "outputs": [
    {
     "name": "stdout",
     "output_type": "stream",
     "text": [
      "Optimization terminated successfully.\n",
      "         Current function value: 95.994880\n",
      "         Iterations: 16868\n",
      "         Function evaluations: 24744\n"
     ]
    },
    {
     "data": {
      "text/plain": [
       " final_simplex: (array([[0.1500085 , 0.16403266, 0.17825619, ..., 0.17818727, 0.17126041,\n",
       "        0.16039694],\n",
       "       [0.15000849, 0.16403267, 0.17825618, ..., 0.17818726, 0.17126041,\n",
       "        0.16039695],\n",
       "       [0.1500085 , 0.16403267, 0.17825619, ..., 0.17818727, 0.17126041,\n",
       "        0.16039694],\n",
       "       ...,\n",
       "       [0.15000849, 0.16403266, 0.17825619, ..., 0.17818727, 0.17126041,\n",
       "        0.16039694],\n",
       "       [0.15000849, 0.16403266, 0.17825619, ..., 0.17818727, 0.17126041,\n",
       "        0.16039695],\n",
       "       [0.1500085 , 0.16403266, 0.17825619, ..., 0.17818727, 0.17126041,\n",
       "        0.16039694]]), array([95.99487967, 95.99487995, 95.99488043, 95.99488051, 95.99488076,\n",
       "       95.99488083, 95.99488083, 95.99488102, 95.99488117, 95.99488133,\n",
       "       95.99488138, 95.99488148, 95.99488178, 95.99488181, 95.99488231,\n",
       "       95.99488274, 95.99488318, 95.99488345, 95.9948835 , 95.9948837 ,\n",
       "       95.99488388, 95.99488415, 95.99488433, 95.99488437, 95.99488469,\n",
       "       95.9948847 , 95.99488486, 95.99488498, 95.99488506, 95.99488563,\n",
       "       95.99488593, 95.99488624, 95.99488674, 95.99488699, 95.99488703,\n",
       "       95.99488741, 95.99488756, 95.99488805, 95.99488837, 95.99488872,\n",
       "       95.99488934, 95.99489172, 95.99489318, 95.99489483, 95.99489582,\n",
       "       95.99489769, 95.99489781, 95.99489835, 95.99489838, 95.99489873,\n",
       "       95.99489874, 95.99489876, 95.99489915, 95.99489944, 95.9948996 ,\n",
       "       95.99489999, 95.99490001, 95.99490039, 95.99490116, 95.99490154,\n",
       "       95.99490207, 95.9949024 , 95.99490329, 95.9949047 , 95.99490627,\n",
       "       95.99490831, 95.99490977, 95.9949116 , 95.99491345, 95.99491567,\n",
       "       95.99491793, 95.99492165, 95.99492614, 95.99493074, 95.99493672,\n",
       "       95.99494158, 95.99494398, 95.99494647, 95.99495161, 95.99495705,\n",
       "       95.99495765, 95.99495838, 95.99495907, 95.99496396, 95.99496596,\n",
       "       95.99496706, 95.99496903, 95.99496916, 95.99497003, 95.99497065,\n",
       "       95.99497073, 95.99497073, 95.99497144, 95.9949737 , 95.99497434,\n",
       "       95.99497467, 95.99497515, 95.99497647, 95.9949778 , 95.99497821,\n",
       "       95.99497914]))\n",
       "           fun: 95.99487967191686\n",
       "       message: 'Optimization terminated successfully.'\n",
       "          nfev: 24744\n",
       "           nit: 16868\n",
       "        status: 0\n",
       "       success: True\n",
       "             x: array([ 0.1500085 ,  0.16403266,  0.17825619,  0.18835932,  0.20235412,\n",
       "        0.21689979,  0.2294736 ,  0.23913876,  0.23489253,  0.20675307,\n",
       "        0.16400942,  0.1061704 ,  0.03096119, -0.05113598, -0.13904213,\n",
       "       -0.2039885 , -0.27990687, -0.34069996, -0.40287946, -0.46823988,\n",
       "       -0.52588599, -0.5826635 , -0.62883558, -0.66136998, -0.68507196,\n",
       "       -0.69100629, -0.68161985, -0.6529825 , -0.61284629, -0.56147933,\n",
       "       -0.50225712, -0.44186606, -0.3810841 , -0.31392838, -0.24190592,\n",
       "       -0.16015575, -0.08381654, -0.00972584,  0.06920808,  0.14015537,\n",
       "        0.19100145,  0.22221289,  0.23023565,  0.23153017,  0.21528737,\n",
       "        0.20545767,  0.19463488,  0.18077973,  0.16737293,  0.15759976,\n",
       "        0.15427348,  0.16201385,  0.17249103,  0.18727642,  0.20094559,\n",
       "        0.21431167,  0.23161776,  0.23687746,  0.22304805,  0.1879644 ,\n",
       "        0.13893794,  0.06899135, -0.00986079, -0.09351494, -0.1676263 ,\n",
       "       -0.24348612, -0.30973916, -0.37826831, -0.44242062, -0.50649199,\n",
       "       -0.56050643, -0.61278053, -0.65028401, -0.67963531, -0.68900159,\n",
       "       -0.6870384 , -0.67096724, -0.63038184, -0.58443318, -0.52316447,\n",
       "       -0.45487863, -0.39650076, -0.33238523, -0.26946428, -0.19772382,\n",
       "       -0.12539214, -0.05165047,  0.02922698,  0.1003724 ,  0.17243758,\n",
       "        0.20570833,  0.22799304,  0.23603149,  0.2300175 ,  0.21728714,\n",
       "        0.20844462,  0.19435698,  0.17818727,  0.17126041,  0.16039694])"
      ]
     },
     "execution_count": 9,
     "metadata": {},
     "output_type": "execute_result"
    }
   ],
   "source": [
    "ret3 = obj3.solve(options=options)\n",
    "ret3"
   ]
  },
  {
   "cell_type": "code",
   "execution_count": 11,
   "id": "ed481522",
   "metadata": {},
   "outputs": [
    {
     "data": {
      "image/png": "[encoded data removed]",
      "text/plain": [
       "<Figure size 432x288 with 1 Axes>"
      ]
     },
     "metadata": {
      "needs_background": "light"
     },
     "output_type": "display_data"
    }
   ],
   "source": [
    "fig, ax = plt.subplots()\n",
    "ax.plot(obj3.xs, ret3.x)\n",
    "\n",
    "plt.show()"
   ]
  },
  {
   "cell_type": "code",
   "execution_count": 17,
   "id": "2b8032f2",
   "metadata": {},
   "outputs": [
    {
     "data": {
      "text/plain": [
       "[<matplotlib.lines.Line2D at 0x1c43ef34d60>]"
      ]
     },
     "execution_count": 17,
     "metadata": {},
     "output_type": "execute_result"
    },
    {
     "data": {
      "image/png": "[encoded data removed]",
      "text/plain": [
       "<Figure size 432x288 with 1 Axes>"
      ]
     },
     "metadata": {
      "needs_background": "light"
     },
     "output_type": "display_data"
    }
   ],
   "source": [
    "plt.plot(obj3.xs, y0)"
   ]
  },
  {
   "cell_type": "markdown",
   "id": "1d697e6b",
   "metadata": {},
   "source": [
    "We see that the alg just dented in the peaks"
   ]
  },
  {
   "cell_type": "code",
   "execution_count": 16,
   "id": "9faae195",
   "metadata": {},
   "outputs": [
    {
     "name": "stderr",
     "output_type": "stream",
     "text": [
      "c:\\Users\\jbran\\anaconda3\\envs\\ring_trap\\lib\\site-packages\\scipy\\integrate\\_ivp\\base.py:20: ComplexWarning: Casting complex values to real discards the imaginary part\n",
      "  return np.asarray(fun(t, y), dtype=dtype)\n"
     ]
    },
    {
     "data": {
      "text/plain": [
       "<matplotlib.collections.PathCollection at 0x1c4400491b0>"
      ]
     },
     "execution_count": 16,
     "metadata": {},
     "output_type": "execute_result"
    },
    {
     "data": {
      "image/png": "[encoded data removed]",
      "text/plain": [
       "<Figure size 432x288 with 1 Axes>"
      ]
     },
     "metadata": {
      "needs_background": "light"
     },
     "output_type": "display_data"
    }
   ],
   "source": [
    "obj2_vals = obj2.compute_objective_vals()\n",
    "obj3_vals = obj3.compute_objective_vals()\n",
    "plt.scatter(range(obj2_vals.shape[0]), obj2_vals - obj3_vals)"
   ]
  },
  {
   "cell_type": "markdown",
   "id": "a739216e",
   "metadata": {},
   "source": [
    "# Conclusions\n",
    "- Adaptive finds better solutions than not\n",
    "- the starting function matters greatly"
   ]
  },
  {
   "cell_type": "markdown",
   "id": "326dfbd5",
   "metadata": {},
   "source": [
    "# Future directions/todo\n",
    "- [ ] stochastically search the space of initial external potentials to find a best starting point."
   ]
  },
  {
   "cell_type": "code",
   "execution_count": null,
   "id": "84ba5e79",
   "metadata": {},
   "outputs": [],
   "source": []
  }
 ],
 "metadata": {
  "kernelspec": {
   "display_name": "Python 3.10.4 ('ring_trap')",
   "language": "python",
   "name": "python3"
  },
  "language_info": {
   "codemirror_mode": {
    "name": "ipython",
    "version": 3
   },
   "file_extension": ".py",
   "mimetype": "text/x-python",
   "name": "python",
   "nbconvert_exporter": "python",
   "pygments_lexer": "ipython3",
   "version": "3.10.4"
  },
  "vscode": {
   "interpreter": {
    "hash": "63a8336d42f50b5a827670819e9cf17db558f990ef99450bb4526797c60fdda6"
   }
  }
 },
 "nbformat": 4,
 "nbformat_minor": 5
}
